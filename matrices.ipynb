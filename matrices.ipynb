{
 "cells": [
  {
   "cell_type": "markdown",
   "metadata": {
    "colab_type": "text",
    "id": "If0wuHBne74X"
   },
   "source": [
    "## Введение в линейную алгебру для машинного обучения"
   ]
  },
  {
   "cell_type": "markdown",
   "metadata": {
    "colab_type": "text",
    "id": "RQWMG8RUe74d"
   },
   "source": [
    "Вспомним основные вещи про числовые матрицы и операции с ними."
   ]
  },
  {
   "cell_type": "markdown",
   "metadata": {
    "colab_type": "text",
    "id": "lLdfZuxOe74f"
   },
   "source": [
    "### Матрицы и операции с ними"
   ]
  },
  {
   "cell_type": "markdown",
   "metadata": {
    "colab_type": "text",
    "id": "eRxhJQ3fe74g"
   },
   "source": [
    "**Матрицей размера $n \\times m$**  мы будем называть набор из $n \\times m$ вещественных чисел, где все эти числа **записаны в строки и стобцы матрицы**: \n",
    "    \n",
    "$$\n",
    "A = \\begin{bmatrix}\n",
    "    x_{11} & x_{12} & x_{13} & \\dots  & x_{1m} \\\\\n",
    "    x_{21} & x_{22} & x_{23} & \\dots  & x_{2m} \\\\\n",
    "    \\vdots & \\vdots & \\vdots & \\ddots & \\vdots \\\\\n",
    "    x_{n1} & x_{n2} & x_{n3} & \\dots  & x_{nm}\n",
    "\\end{bmatrix}\n",
    "\\in R^{n \\times m}$$\n",
    "\n",
    "где $R$ — множество вещественных чисел. В данном случае матрица имеет $n$ строк и $m$ столбцов. Элементами матрицы $x_{ij}$ являются вещественные числа. Если взять одну строку матрицы — получим числовой вектор размера $m$, если взять один столбец — тоже получим числовой вектор, но уже размера $n$."
   ]
  },
  {
   "cell_type": "markdown",
   "metadata": {
    "colab_type": "text",
    "id": "klMGjDeme74i"
   },
   "source": [
    "Количество строк матрицы, стоящее в $n \\times m$ первым множителем, будем называть **первой размерностью**, второй множитель (количество столбцов) будем называть **второй размерностью** матрицы. Их еще часто называют **осями** (***axis*** по-английски)"
   ]
  },
  {
   "cell_type": "markdown",
   "metadata": {
    "colab_type": "text",
    "id": "TT9VnYKUe74j"
   },
   "source": [
    "**Пример:**\n",
    "\n",
    "<img src=\"http://www.pvsm.ru/images/2018/07/26/instrumenty-Apple-dlya-mashinnogo-obucheniya-14.png\" width=500>\n",
    "\n",
    "<p style=\"text-align:center\">Это матрица $7 \\times 6$ (строка имен столбцов не считается в данном случае). Первая размерность (первая ось) матрицы равна $7$, вторая размерность (вторая ось) матрицы равна $6$. Любая строка этой матрицы — числовой вектор размера $6$. Любой столбец этой матрицы — числовой вектор размера $7$.</p>"
   ]
  },
  {
   "cell_type": "markdown",
   "metadata": {
    "colab_type": "text",
    "id": "_0PmiQ0We74k"
   },
   "source": [
    "В анализе данных и машинном обучении для различных операций, связанных с линейной алгеброй, используют библиотеку `Numpy`:"
   ]
  },
  {
   "cell_type": "code",
   "execution_count": 0,
   "metadata": {
    "colab": {},
    "colab_type": "code",
    "id": "2Ou9RN7Re74l",
    "outputId": "6f8a3767-40e8-4624-fcd6-c200788123e4"
   },
   "outputs": [
    {
     "name": "stdout",
     "output_type": "stream",
     "text": [
      "Матрица:\n",
      " [[-1  0  1]\n",
      " [ 2  3  4]]\n",
      "Тип матрицы: <class 'numpy.ndarray'>\n",
      "Размер матрицы: (2, 3)\n"
     ]
    }
   ],
   "source": [
    "import numpy as np\n",
    "\n",
    "A = np.array([[-1,0,1],[2,3,4]])\n",
    "print('Матрица:\\n', A)\n",
    "print('Тип матрицы:', type(A))\n",
    "print('Размер матрицы:', A.shape)"
   ]
  },
  {
   "cell_type": "markdown",
   "metadata": {
    "colab_type": "text",
    "id": "2sIQN9DAe74o"
   },
   "source": [
    "Выше мы создали матрицу размера $2 \\times3 $ ($n=2, m=3$), состоящую из вещественных чисел. То есть $A \\in R^{2 \\times 3}$."
   ]
  },
  {
   "cell_type": "markdown",
   "metadata": {
    "colab_type": "text",
    "id": "u-zA3pQ8e74p"
   },
   "source": [
    "Матрицу, у которой количество строк равно количеству столбцов ($n = m$) называют **квадратной**. Все остальные матрицы называют **прямоугольными**."
   ]
  },
  {
   "cell_type": "code",
   "execution_count": 0,
   "metadata": {
    "colab": {},
    "colab_type": "code",
    "id": "EA3hDfzRe74q",
    "outputId": "46878d76-0f64-445e-dfff-7e09dbfd29b4"
   },
   "outputs": [
    {
     "name": "stdout",
     "output_type": "stream",
     "text": [
      "Квадратная матрица 3x3:\n",
      " [[-1  0  1]\n",
      " [ 2  3  4]\n",
      " [ 5  5  5]]\n",
      "Прямоугольная матрица 5x2:\n",
      " [[1. 1.]\n",
      " [1. 1.]\n",
      " [1. 1.]\n",
      " [1. 1.]\n",
      " [1. 1.]]\n"
     ]
    }
   ],
   "source": [
    "A = np.array([[-1,0,1],[2,3,4],[5,5,5]])\n",
    "print('Квадратная матрица 3x3:\\n', A)\n",
    "B = np.ones((5, 2))  # создать матрицу нужного размера, состоящую только из единиц\n",
    "print('Прямоугольная матрица 5x2:\\n', B)"
   ]
  },
  {
   "cell_type": "markdown",
   "metadata": {
    "colab_type": "text",
    "id": "hWOG5u6me74t"
   },
   "source": [
    "В `numpy` у матриц легко извлекать только нужную строку, стобец или элемент. Рассмотрим произвольную матрицу:"
   ]
  },
  {
   "cell_type": "code",
   "execution_count": 0,
   "metadata": {
    "colab": {},
    "colab_type": "code",
    "id": "eIDvbWNve74u",
    "outputId": "0d3ce90a-8e3d-4177-a638-034ba57414f7"
   },
   "outputs": [
    {
     "name": "stdout",
     "output_type": "stream",
     "text": [
      "[[ 1  2  3  4]\n",
      " [ 5  6  7  8]\n",
      " [ 9 10 11 12]\n",
      " [13 14 15 16]\n",
      " [17 18 19 20]]\n",
      "(5, 4)\n"
     ]
    }
   ],
   "source": [
    "A = np.array([\n",
    "    [1,2,3,4], \n",
    "    [5,6,7,8], \n",
    "    [9,10,11,12],\n",
    "    [13,14,15,16], \n",
    "    [17,18,19,20]\n",
    "])\n",
    "print(A)\n",
    "print(A.shape)"
   ]
  },
  {
   "cell_type": "markdown",
   "metadata": {
    "colab_type": "text",
    "id": "llNZ4h7se74x"
   },
   "source": [
    "Хотим, например, взять из этой матрицы $5x4$ только 1-ю строку, это можно сделать так:"
   ]
  },
  {
   "cell_type": "code",
   "execution_count": 0,
   "metadata": {
    "colab": {},
    "colab_type": "code",
    "id": "TUGUg79Pe74x",
    "outputId": "a24da856-5c05-424f-ce86-56eb6150b062"
   },
   "outputs": [
    {
     "data": {
      "text/plain": [
       "array([1, 2, 3, 4])"
      ]
     },
     "execution_count": 34,
     "metadata": {
      "tags": []
     },
     "output_type": "execute_result"
    }
   ],
   "source": [
    "A[0,:]  #  строка 1 (отсчет с нуля!, поэтому 0), весь столбец "
   ]
  },
  {
   "cell_type": "markdown",
   "metadata": {
    "colab_type": "text",
    "id": "nMZtrRyIe740"
   },
   "source": [
    "Только 3-ю строку:"
   ]
  },
  {
   "cell_type": "code",
   "execution_count": 0,
   "metadata": {
    "colab": {},
    "colab_type": "code",
    "id": "rSN6lI59e741",
    "outputId": "bbf51af6-3d94-4269-ede5-e6e19e920189"
   },
   "outputs": [
    {
     "data": {
      "text/plain": [
       "array([ 9, 10, 11, 12])"
      ]
     },
     "execution_count": 35,
     "metadata": {
      "tags": []
     },
     "output_type": "execute_result"
    }
   ],
   "source": [
    "A[2,:]  #  строка 3 (отсчет с нуля!, поэтому 2), весь столбец "
   ]
  },
  {
   "cell_type": "markdown",
   "metadata": {
    "colab_type": "text",
    "id": "EPNYpUr1e743"
   },
   "source": [
    "При обращении к элементам матрицы в квадратных скобках на первом месте указывается номер строки (**отсчет ведём с нуля, то есть первая строка в программировании — нулевая, первый столбец — нулевой**), на втором — номер столбца. Выше поскольку мы берем весь столбец, мы пишем двоеточие (как \"срезы (`slice`)\" в Python). Теперь хотим взять конкретный элемент, например, стоящий в строке 4 в столбце 3:"
   ]
  },
  {
   "cell_type": "code",
   "execution_count": 0,
   "metadata": {
    "colab": {},
    "colab_type": "code",
    "id": "g61Jhjaue744",
    "outputId": "9e70295d-cb55-4586-e8f7-6254157cf42a"
   },
   "outputs": [
    {
     "data": {
      "text/plain": [
       "15"
      ]
     },
     "execution_count": 30,
     "metadata": {
      "tags": []
     },
     "output_type": "execute_result"
    }
   ],
   "source": [
    "A[3,2]  # строка 4, столбец 3 (отсчет с нуля!)"
   ]
  },
  {
   "cell_type": "code",
   "execution_count": 0,
   "metadata": {
    "colab": {},
    "colab_type": "code",
    "id": "do0sH1Hre746",
    "outputId": "d5f11fc0-5f74-4b53-ea16-7addb324f2f5"
   },
   "outputs": [
    {
     "data": {
      "text/plain": [
       "15"
      ]
     },
     "execution_count": 32,
     "metadata": {
      "tags": []
     },
     "output_type": "execute_result"
    }
   ],
   "source": [
    "A[3][2]  # или так"
   ]
  },
  {
   "cell_type": "markdown",
   "metadata": {
    "colab_type": "text",
    "id": "Zn4T1DWCe748"
   },
   "source": [
    "Хотим теперь взять из этой матрицы $5x4$ только 2-ой столбец:"
   ]
  },
  {
   "cell_type": "code",
   "execution_count": 0,
   "metadata": {
    "colab": {},
    "colab_type": "code",
    "id": "H4vNLZYLe748",
    "outputId": "e6285a1c-5b9b-4610-bfaa-e90b2e765d79"
   },
   "outputs": [
    {
     "data": {
      "text/plain": [
       "array([ 2,  6, 10, 14, 18])"
      ]
     },
     "execution_count": 36,
     "metadata": {
      "tags": []
     },
     "output_type": "execute_result"
    }
   ],
   "source": [
    "A[:,1]"
   ]
  },
  {
   "cell_type": "markdown",
   "metadata": {
    "colab_type": "text",
    "id": "3-MaPmDLe74-"
   },
   "source": [
    "Таким образом мы убедились, что индексирование матриц — это просто!"
   ]
  },
  {
   "cell_type": "markdown",
   "metadata": {
    "colab_type": "text",
    "id": "-cSEJHqse74_"
   },
   "source": [
    "Так же, как и с векторами, матрицы можно поэлементно складывать, вычитать, умножать и делить. Пусть есть две матрицы:  \n",
    "\n",
    "$$\n",
    "A = \\begin{bmatrix}\n",
    "    a_{11} & a_{12} & a_{13} & \\dots  & a_{1m} \\\\\n",
    "    a_{21} & a_{22} & a_{23} & \\dots  & a_{2m} \\\\\n",
    "    \\vdots & \\vdots & \\vdots & \\ddots & \\vdots \\\\\n",
    "    a_{n1} & a_{n2} & a_{n3} & \\dots  & a_{nm}\n",
    "\\end{bmatrix}\n",
    "\\in R^{n \\times m}$$\n",
    "\n",
    "$$\n",
    "B = \\begin{bmatrix}\n",
    "    b_{11} & b_{12} & b_{13} & \\dots  & b_{1m} \\\\\n",
    "    b_{21} & b_{22} & b_{23} & \\dots  & b_{2m} \\\\\n",
    "    \\vdots & \\vdots & \\vdots & \\ddots & \\vdots \\\\\n",
    "    b_{n1} & b_{n2} & b_{n3} & \\dots  & b_{nm}\n",
    "\\end{bmatrix}\n",
    "\\in R^{n \\times m}$$"
   ]
  },
  {
   "cell_type": "markdown",
   "metadata": {
    "colab_type": "text",
    "id": "5mKkOnwhe74_"
   },
   "source": [
    "Тогда **поэлементные операции** с ними определим так:"
   ]
  },
  {
   "cell_type": "markdown",
   "metadata": {
    "colab_type": "text",
    "id": "VN3ZNjUne75A"
   },
   "source": [
    "* (поэлементное) сложение:"
   ]
  },
  {
   "cell_type": "markdown",
   "metadata": {
    "colab_type": "text",
    "id": "jzSKUnpDe75A"
   },
   "source": [
    "$$\n",
    "A + B = \\begin{bmatrix}\n",
    "    a_{11} + b_{11} & a_{12} + b_{12} & a_{13} + b_{13} & \\dots  & a_{1m} + b_{1m} \\\\\n",
    "    a_{21} + b_{21} & a_{22} + b_{22} & a_{23} + b_{23} & \\dots  & a_{2m} + b_{2m} \\\\\n",
    "    \\vdots & \\vdots & \\vdots & \\ddots & \\vdots \\\\\n",
    "    a_{n1} + b_{n1} & a_{n2} + b_{n2} & a_{n3} + b_{n3} & \\dots  & a_{nm} + b_{nm}\n",
    "\\end{bmatrix}\n",
    "$$"
   ]
  },
  {
   "cell_type": "markdown",
   "metadata": {
    "colab_type": "text",
    "id": "mel5V_qEe75B"
   },
   "source": [
    "* (поэлементное) вычитание:"
   ]
  },
  {
   "cell_type": "markdown",
   "metadata": {
    "colab_type": "text",
    "id": "qHe0GNqme75B"
   },
   "source": [
    "$$\n",
    "A - B = \\begin{bmatrix}\n",
    "    a_{11} - b_{11} & a_{12} - b_{12} & a_{13} - b_{13} & \\dots  & a_{1m} - b_{1m} \\\\\n",
    "    a_{21} - b_{21} & a_{22} - b_{22} & a_{23} - b_{23} & \\dots  & a_{2m} - b_{2m} \\\\\n",
    "    \\vdots & \\vdots & \\vdots & \\ddots & \\vdots \\\\\n",
    "    a_{n1} - b_{n1} & a_{n2} - b_{n2} & a_{n3} - b_{n3} & \\dots  & a_{nm} - b_{nm}\n",
    "\\end{bmatrix}\n",
    "$$"
   ]
  },
  {
   "cell_type": "markdown",
   "metadata": {
    "colab_type": "text",
    "id": "_GMjCBsne75C"
   },
   "source": [
    "* (поэлементное) умножение:"
   ]
  },
  {
   "cell_type": "markdown",
   "metadata": {
    "colab_type": "text",
    "id": "dHZAYbEhe75C"
   },
   "source": [
    "$$\n",
    "A * B = \\begin{bmatrix}\n",
    "    a_{11} * b_{11} & a_{12} * b_{12} & a_{13} * b_{13} & \\dots  & a_{1m} * b_{1m} \\\\\n",
    "    a_{21} * b_{21} & a_{22} * b_{22} & a_{23} * b_{23} & \\dots  & a_{2m} * b_{2m} \\\\\n",
    "    \\vdots & \\vdots & \\vdots & \\ddots & \\vdots \\\\\n",
    "    a_{n1} * b_{n1} & a_{n2} * b_{n2} & a_{n3} * b_{n3} & \\dots  & a_{nm} * b_{nm}\n",
    "\\end{bmatrix}\n",
    "$$"
   ]
  },
  {
   "cell_type": "markdown",
   "metadata": {
    "colab_type": "text",
    "id": "psFNtBVne75D"
   },
   "source": [
    "* (поэлементное) деление:"
   ]
  },
  {
   "cell_type": "markdown",
   "metadata": {
    "colab_type": "text",
    "id": "PAOqMd9me75D"
   },
   "source": [
    "$$\n",
    "A~/~B = \\begin{bmatrix}\n",
    "    a_{11} / b_{11} & a_{12} / b_{12} & a_{13} / b_{13} & \\dots  & a_{1m} / b_{1m} \\\\\n",
    "    a_{21} / b_{21} & a_{22} / b_{22} & a_{23} / b_{23} & \\dots  & a_{2m} / b_{2m} \\\\\n",
    "    \\vdots & \\vdots & \\vdots & \\ddots & \\vdots \\\\\n",
    "    a_{n1} / b_{n1} & a_{n2} / b_{n2} & a_{n3} / b_{n3} & \\dots  & a_{nm} / b_{nm}\n",
    "\\end{bmatrix}\n",
    "$$"
   ]
  },
  {
   "cell_type": "markdown",
   "metadata": {
    "colab_type": "text",
    "id": "mj9WJJBIe75E"
   },
   "source": [
    "Поэлементные операции **для матриц разного размера НЕ определены**. Например, нельзя поэлементно сложить матрицы размеров $1 \\times 2$ и $2 \\times 1$ (порядок размерностей важен!)"
   ]
  },
  {
   "cell_type": "markdown",
   "metadata": {
    "colab_type": "text",
    "id": "J_LslIR0e75E"
   },
   "source": [
    "**Примеры**"
   ]
  },
  {
   "cell_type": "markdown",
   "metadata": {
    "colab_type": "text",
    "id": "C7HD3RaKe75F"
   },
   "source": [
    "> $A = \\begin{bmatrix}\n",
    "    3 & 2  \\\\\n",
    "    -1 & 0  \\\\\n",
    "    0.5 & 0.5 \\\\\n",
    "\\end{bmatrix},\n",
    "B = \\begin{bmatrix}\n",
    "    -5 & 0.5  \\\\\n",
    "    -10 & 10  \\\\\n",
    "    11 & 12 \\\\\n",
    "\\end{bmatrix}, \n",
    "A + B = \\begin{bmatrix}\n",
    "    -2 & 2.5  \\\\\n",
    "    -11 & 10  \\\\\n",
    "    11.5 & 12.5 \\\\\n",
    "\\end{bmatrix}$\n",
    "\n",
    "> $A = \\begin{bmatrix}\n",
    "    3 & 2  \\\\\n",
    "    -1 & 0  \\\\\n",
    "    0.5 & 0.5 \\\\\n",
    "\\end{bmatrix},\n",
    "B = \\begin{bmatrix}\n",
    "    -5 & 0.5  \\\\\n",
    "    -10 & 10  \\\\\n",
    "    11 & 12 \\\\\n",
    "    100 & 100 \\\\\n",
    "\\end{bmatrix}, \n",
    "A + B = \\text{не определено}\n",
    "$\n",
    "\n",
    "> $A = \\begin{bmatrix}\n",
    "    3 & 2  \\\\\n",
    "    -1 & 0  \\\\\n",
    "    0.5 & 0.5 \\\\\n",
    "\\end{bmatrix},\n",
    "B = \\begin{bmatrix}\n",
    "    -5 & 0.5  \\\\\n",
    "    -10 & 10  \\\\\n",
    "    11 & 12 \\\\\n",
    "\\end{bmatrix}, \n",
    "A * B = \\begin{bmatrix}\n",
    "    -15 & 1  \\\\\n",
    "    10 & 0  \\\\\n",
    "    5.5 & 6 \\\\\n",
    "\\end{bmatrix}$"
   ]
  },
  {
   "cell_type": "markdown",
   "metadata": {
    "colab_type": "text",
    "id": "NCDnFYs2e75F"
   },
   "source": [
    "На `numpy`:"
   ]
  },
  {
   "cell_type": "code",
   "execution_count": 0,
   "metadata": {
    "colab": {},
    "colab_type": "code",
    "id": "zYJeVEy2e75G",
    "outputId": "df558b04-13d9-4a3b-98c0-f4673f98048e"
   },
   "outputs": [
    {
     "name": "stdout",
     "output_type": "stream",
     "text": [
      "[[1 2 3]\n",
      " [4 5 6]]\n",
      "[[1. 1. 1.]\n",
      " [1. 1. 1.]]\n"
     ]
    }
   ],
   "source": [
    "A = np.array([[1,2,3],[4,5,6]])\n",
    "B = np.ones((2,3))\n",
    "print(A)\n",
    "print(B)"
   ]
  },
  {
   "cell_type": "code",
   "execution_count": 0,
   "metadata": {
    "colab": {},
    "colab_type": "code",
    "id": "_WsxUC0We75I",
    "outputId": "8abc0ab0-c04d-4337-b5f2-fbdf4ab567fb"
   },
   "outputs": [
    {
     "data": {
      "text/plain": [
       "array([[2., 3., 4.],\n",
       "       [5., 6., 7.]])"
      ]
     },
     "execution_count": 38,
     "metadata": {
      "tags": []
     },
     "output_type": "execute_result"
    }
   ],
   "source": [
    "A + B"
   ]
  },
  {
   "cell_type": "code",
   "execution_count": 0,
   "metadata": {
    "colab": {},
    "colab_type": "code",
    "id": "wNWAjN_ae75J",
    "outputId": "5f3f2902-f16e-4287-edf0-d3919730d2cd"
   },
   "outputs": [
    {
     "data": {
      "text/plain": [
       "array([[0., 1., 2.],\n",
       "       [3., 4., 5.]])"
      ]
     },
     "execution_count": 39,
     "metadata": {
      "tags": []
     },
     "output_type": "execute_result"
    }
   ],
   "source": [
    "A - B"
   ]
  },
  {
   "cell_type": "code",
   "execution_count": 0,
   "metadata": {
    "colab": {},
    "colab_type": "code",
    "id": "8voReQGPe75L",
    "outputId": "c6f79203-0cfd-4aba-a48a-816979926e2b"
   },
   "outputs": [
    {
     "data": {
      "text/plain": [
       "array([[1., 2., 3.],\n",
       "       [4., 5., 6.]])"
      ]
     },
     "execution_count": 40,
     "metadata": {
      "tags": []
     },
     "output_type": "execute_result"
    }
   ],
   "source": [
    "A * B"
   ]
  },
  {
   "cell_type": "code",
   "execution_count": 0,
   "metadata": {
    "colab": {},
    "colab_type": "code",
    "id": "hotbpVSMe75N",
    "outputId": "de84e04c-339c-42d2-85c7-68a9a843a739"
   },
   "outputs": [
    {
     "data": {
      "text/plain": [
       "array([[1., 2., 3.],\n",
       "       [4., 5., 6.]])"
      ]
     },
     "execution_count": 41,
     "metadata": {
      "tags": []
     },
     "output_type": "execute_result"
    }
   ],
   "source": [
    "A / B"
   ]
  },
  {
   "cell_type": "markdown",
   "metadata": {
    "colab_type": "text",
    "id": "1yn1h9bZe75O"
   },
   "source": [
    "Также определим операцию **умножения матрицы на число (скаляр)**:   \n",
    "\n",
    "$$\n",
    "A = \\begin{bmatrix}\n",
    "    a_{11} & a_{12} & a_{13} & \\dots  & a_{1m} \\\\\n",
    "    a_{21} & a_{22} & a_{23} & \\dots  & a_{2m} \\\\\n",
    "    \\vdots & \\vdots & \\vdots & \\ddots & \\vdots \\\\\n",
    "    a_{n1} & a_{n2} & a_{n3} & \\dots  & a_{nm}\n",
    "\\end{bmatrix}\n",
    "\\in R^{n \\times m}$$\n",
    "\n",
    "$$k\\in R$$\n",
    "где $R$ — множество вещественных чисел."
   ]
  },
  {
   "cell_type": "markdown",
   "metadata": {
    "colab_type": "text",
    "id": "Z_9ytYjbe75O"
   },
   "source": [
    "$$\n",
    "k * A = A * k = \\begin{bmatrix}\n",
    "    a_{11} * k & a_{12} * k & a_{13} * k & \\dots  & a_{1m} * k \\\\\n",
    "    a_{21} * k & a_{22} * k & a_{23} * k & \\dots  & a_{2m} * k \\\\\n",
    "    \\vdots & \\vdots & \\vdots & \\ddots & \\vdots \\\\\n",
    "    a_{n1} * k & a_{n2} * k & a_{n3} * k & \\dots  & a_{nm} * k\n",
    "\\end{bmatrix}\n",
    "$$"
   ]
  },
  {
   "cell_type": "markdown",
   "metadata": {
    "colab_type": "text",
    "id": "A2XuusaTe75P"
   },
   "source": [
    "Деление матрицы на число так же определено, поскольку $A~/~k = A * (1~/~k)$, то есть это просто умножение на \"1 поделить на это число\". \n",
    "\n",
    "В математике строго не определены операции **сложения и вычитания матрицы и числа (скаляра)**, однако мы введем их, поскольку во всех библиотеках для линейной алгебры и машинного обучения эти операции есть и осуществляются так:"
   ]
  },
  {
   "cell_type": "markdown",
   "metadata": {
    "colab_type": "text",
    "id": "EaakdEoCe75P"
   },
   "source": [
    "$$\n",
    "k + A = A + k = \\begin{bmatrix}\n",
    "    a_{11} + k & a_{12} + k & a_{13} + k & \\dots  & a_{1m} + k \\\\\n",
    "    a_{21} + k & a_{22} + k & a_{23} + k & \\dots  & a_{2m} + k \\\\\n",
    "    \\vdots & \\vdots & \\vdots & \\ddots & \\vdots \\\\\n",
    "    a_{n1} + k & a_{n2} + k & a_{n3} + k & \\dots  & a_{nm} + k\n",
    "\\end{bmatrix}\n",
    "$$"
   ]
  },
  {
   "cell_type": "markdown",
   "metadata": {
    "colab_type": "text",
    "id": "Q1s2kfAne75P"
   },
   "source": [
    "$$\n",
    " A - k = \\begin{bmatrix}\n",
    "    a_{11} - k & a_{12} - k & a_{13} - k & \\dots  & a_{1m} - k \\\\\n",
    "    a_{21} - k & a_{22} - k & a_{23} - k & \\dots  & a_{2m} - k \\\\\n",
    "    \\vdots & \\vdots & \\vdots & \\ddots & \\vdots \\\\\n",
    "    a_{n1} - k & a_{n2} - k & a_{n3} - k & \\dots  & a_{nm} - k\n",
    "\\end{bmatrix}\n",
    "$$"
   ]
  },
  {
   "cell_type": "markdown",
   "metadata": {
    "colab_type": "text",
    "id": "F_aT1Ckbe75Q"
   },
   "source": [
    "Отрицанием матрицы $A$ будем называть такую матрицу $B$, что:\n",
    "    \n",
    "$$\n",
    "A + B = 0\n",
    "$$\n",
    "\n",
    "Отсюда следует, что $B = -A$, то есть отрицанием любой матрицы является она же, но со знаком \"минус\"."
   ]
  },
  {
   "cell_type": "markdown",
   "metadata": {
    "colab_type": "text",
    "id": "_Wlf7QJIe75Q"
   },
   "source": [
    "Имею эти операции можем определить и $k - A$:\n",
    "\n",
    "$$k - A = k + (-A)$$ \n",
    "\n",
    "где отрицание A и сумму со скаляром мы уже определили выше."
   ]
  },
  {
   "cell_type": "markdown",
   "metadata": {
    "colab_type": "text",
    "id": "W8ex7mYKe75Q"
   },
   "source": [
    "**Примеры**"
   ]
  },
  {
   "cell_type": "markdown",
   "metadata": {
    "colab_type": "text",
    "id": "dvrRgrzWe75R"
   },
   "source": [
    "> $5 * \\begin{bmatrix}\n",
    "    3 & 2  \\\\\n",
    "    -1 & 0  \\\\\n",
    "    0.5 & 0.5 \\\\\n",
    "\\end{bmatrix} = \\begin{bmatrix}\n",
    "    15 & 10  \\\\\n",
    "    -5 & 0  \\\\\n",
    "    2.5 & 2.5 \\\\\n",
    "\\end{bmatrix}$\n",
    "\n",
    "> $10.2 + \\begin{bmatrix}\n",
    "    3 & 2  \\\\\n",
    "    -1 & 0  \\\\\n",
    "    0.5 & 0.5 \\\\\n",
    "\\end{bmatrix} = \\begin{bmatrix}\n",
    "    13.2 & 12.2  \\\\\n",
    "    -9.2 & 10.2 \\\\\n",
    "    10.7 & 10.7 \\\\\n",
    "\\end{bmatrix}$\n",
    "\n",
    "> $\\begin{bmatrix}\n",
    "    3 & 2  \\\\\n",
    "    -1 & 0  \\\\\n",
    "    0.5 & 0.5 \\\\\n",
    "\\end{bmatrix} - 100 = \\begin{bmatrix}\n",
    "    -97 & -98 \\\\\n",
    "    -101 & -100  \\\\\n",
    "    -99.5 & -99.5 \\\\\n",
    "\\end{bmatrix}$\n",
    "\n",
    "> $-\\begin{bmatrix}\n",
    "    3 & 2  \\\\\n",
    "    -1 & 0  \\\\\n",
    "    0.5 & 0.5 \\\\\n",
    "\\end{bmatrix} = \\begin{bmatrix}\n",
    "    -3 & -2  \\\\\n",
    "    1 & 0  \\\\\n",
    "    -0.5 & -0.5 \\\\\n",
    "\\end{bmatrix}$ — отрицание матрицы $\\begin{bmatrix}\n",
    "    3 & 2  \\\\\n",
    "    -1 & 0  \\\\\n",
    "    0.5 & 0.5 \\\\\n",
    "\\end{bmatrix}$"
   ]
  },
  {
   "cell_type": "markdown",
   "metadata": {
    "colab_type": "text",
    "id": "fIFkW5G0e75R"
   },
   "source": [
    "Помимо поэлементных операций и операций с числами, существуют специально определенные для матриц операции:\n",
    "\n",
    "* **транспонирование** — записываем строки на место столбцов, а столбцы — на место строк:  \n",
    "\n",
    "$$\n",
    "A = \\begin{bmatrix}\n",
    "    a_{11} & a_{12} & a_{13} & \\dots  & a_{1m} \\\\\n",
    "    a_{21} & a_{22} & a_{23} & \\dots  & a_{2m} \\\\\n",
    "    \\vdots & \\vdots & \\vdots & \\ddots & \\vdots \\\\\n",
    "    a_{n1} & a_{n2} & a_{n3} & \\dots  & a_{nm}\n",
    "\\end{bmatrix}\n",
    "\\in R^{n \\times m}\n",
    "$$  \n",
    "\n",
    "$$\n",
    "A^T = \\begin{bmatrix}\n",
    "    a_{11} & a_{21} & \\dots  & a_{n1} \\\\\n",
    "    a_{12} & a_{22} & \\dots  & a_{n2} \\\\\n",
    "    a_{13} & a_{23} & \\dots  & a_{n3} \\\\\n",
    "    \\vdots & \\vdots & \\ddots & \\vdots \\\\\n",
    "    a_{1m} & a_{2m} & \\dots  & a_{nm}\n",
    "\\end{bmatrix}\n",
    "\\in R^{m \\times n}\n",
    "$$"
   ]
  },
  {
   "cell_type": "markdown",
   "metadata": {
    "colab_type": "text",
    "id": "KSbJPnD4e75R"
   },
   "source": [
    "**Пример**\n",
    "> $\\begin{bmatrix}\n",
    "    3 & 2  \\\\\n",
    "    -1 & 0  \\\\\n",
    "    0.5 & 0.5 \\\\\n",
    "\\end{bmatrix}^{T} = \\begin{bmatrix}\n",
    "    3 & -1 & 0.5  \\\\\n",
    "    2 & 0 & 0.5 \\\\\n",
    "\\end{bmatrix}\n",
    "$"
   ]
  },
  {
   "cell_type": "markdown",
   "metadata": {
    "colab_type": "text",
    "id": "fQRz561ee75S"
   },
   "source": [
    "На `numpy` транспонировать матрицы можно так:"
   ]
  },
  {
   "cell_type": "code",
   "execution_count": 0,
   "metadata": {
    "colab": {},
    "colab_type": "code",
    "id": "jBSYia1-e75S",
    "outputId": "a327dd41-d70d-4c2a-a2a7-ae35b08d0329"
   },
   "outputs": [
    {
     "name": "stdout",
     "output_type": "stream",
     "text": [
      "[[1 2 3]\n",
      " [4 5 6]]\n",
      "[[1. 1. 1.]\n",
      " [1. 1. 1.]]\n"
     ]
    }
   ],
   "source": [
    "A = np.array([[1,2,3],[4,5,6]])\n",
    "B = np.ones((2,3))\n",
    "print(A)\n",
    "print(B)"
   ]
  },
  {
   "cell_type": "code",
   "execution_count": 0,
   "metadata": {
    "colab": {},
    "colab_type": "code",
    "id": "y57rwvf2e75U",
    "outputId": "8b2be19c-f9c9-4848-880d-3447a59ab0b1"
   },
   "outputs": [
    {
     "data": {
      "text/plain": [
       "array([[1, 4],\n",
       "       [2, 5],\n",
       "       [3, 6]])"
      ]
     },
     "execution_count": 43,
     "metadata": {
      "tags": []
     },
     "output_type": "execute_result"
    }
   ],
   "source": [
    "A.T"
   ]
  },
  {
   "cell_type": "code",
   "execution_count": 0,
   "metadata": {
    "colab": {},
    "colab_type": "code",
    "id": "5fCF6-Rde75V",
    "outputId": "8cec0eab-ff78-4378-9416-776551d39dde"
   },
   "outputs": [
    {
     "data": {
      "text/plain": [
       "array([[1., 1.],\n",
       "       [1., 1.],\n",
       "       [1., 1.]])"
      ]
     },
     "execution_count": 44,
     "metadata": {
      "tags": []
     },
     "output_type": "execute_result"
    }
   ],
   "source": [
    "B.T"
   ]
  },
  {
   "cell_type": "markdown",
   "metadata": {
    "colab_type": "text",
    "id": "6qmAoYmne75X"
   },
   "source": [
    "Далее рассмотрим подробно операции матричного произведения и взятия обратной матрицы:"
   ]
  },
  {
   "cell_type": "markdown",
   "metadata": {
    "colab_type": "text",
    "id": "JjOFCSyhe75X"
   },
   "source": [
    "### Матричное произведение\n",
    "\n",
    "Одна из самых важных операций в линейной алгебре — **матричное произведение**. ВАЖНО: это НЕ то же самое, что поэлементное произведение матриц, рассмотренное выше.\n",
    "\n",
    "Пусть есть две матрицы (обратите внимание на размеры матриц):\n",
    "\n",
    "$$\n",
    "A = \\begin{bmatrix}\n",
    "    a_{11} & a_{12} & a_{13} & \\dots  & a_{1k} \\\\\n",
    "    a_{21} & a_{22} & a_{23} & \\dots  & a_{2k} \\\\\n",
    "    \\vdots & \\vdots & \\vdots & \\ddots & \\vdots \\\\\n",
    "    a_{n1} & a_{n2} & a_{n3} & \\dots  & a_{nk}\n",
    "\\end{bmatrix}\n",
    "\\in R^{n \\times k}\n",
    "$$\n",
    "\n",
    "$$\n",
    "B = \\begin{bmatrix}\n",
    "    b_{11} & b_{12} & b_{13} & \\dots  & b_{1m} \\\\\n",
    "    b_{21} & b_{22} & b_{23} & \\dots  & b_{2m} \\\\\n",
    "    \\vdots & \\vdots & \\vdots & \\ddots & \\vdots \\\\\n",
    "    b_{k1} & b_{k2} & b_{k3} & \\dots  & b_{km}\n",
    "\\end{bmatrix}\n",
    "\\in R^{k \\times m}\n",
    "$$\n",
    "\n",
    "Тогда **матричным произведением** этих матриц является матрица:\n",
    "\n",
    "$$\n",
    "A \\times B = C = \\begin{bmatrix}\n",
    "    A{[1,:]} \\cdot B{[:,1]} & A{[1,:]} \\cdot B{[:,2]} & A{[1,:]} \\cdot B{[:,3]} & \\dots  & A{[1,:]} \\cdot B{[:,m]} \\\\\n",
    "    A{[2,:]} \\cdot B{[:,1]} & A{[2,:]} \\cdot B{[:,2]} & A{[2,:]} \\cdot B{[:,3]} & \\dots  & A{[2,:]} \\cdot B{[:,m]} \\\\\n",
    "    \\vdots & \\vdots & \\vdots & \\ddots & \\vdots \\\\\n",
    "    A{[n,:]} \\cdot B{[:,1]} & A{[n,:]} \\cdot B{[:,2]} & A{[n,:]} \\cdot B{[:,3]} & \\dots  & A{[n,:]} \\cdot B{[:,m]}\n",
    "\\end{bmatrix}\n",
    "\\in R^{n \\times m}\n",
    "$$\n",
    "\n",
    "то есть один элемент $c_{ij}$ матрицы $C$ равняется: $c_{ij} = A[i,:] \\cdot B[:,j]$, где:  \n",
    "$A[i,:]$ — $i$-ая строка матрицы $A$,  \n",
    "$B[:,j]$ — $j$-ый столбец матрицы $B$,  \n",
    "$A[i,:] \\cdot B[:,j]$ — скалярное произведение векторов $A[i,:]$ и $B[:,j]$"
   ]
  },
  {
   "cell_type": "markdown",
   "metadata": {
    "colab_type": "text",
    "id": "DFDdkuLxe75X"
   },
   "source": [
    "Простыми словами: чтобы получить элемент матрицы, являющейся результатом матричного произведение, нам надо **в правильном порядке скалярно умножать строки первой матрицы на столбцы второй матрицы**."
   ]
  },
  {
   "cell_type": "markdown",
   "metadata": {
    "colab_type": "text",
    "id": "xJniS0ZTe75Y"
   },
   "source": [
    "Просьба еще раз обратить внимание на размеры: операция матричного произведения определена только для матриц, размеры которых удовлетворяют правилу: **вторая размерность первой матрицы равно первой размерности второй матрицы**. То есть в случае матриц размеров $n \\times m$ и $r \\times s$ — $m$ должно быть равно $r$ ($n$ и $s$ — произвольные целые положительные числа)."
   ]
  },
  {
   "cell_type": "markdown",
   "metadata": {
    "colab_type": "text",
    "id": "b2gFhb3Se75Y"
   },
   "source": [
    "[Видео](https://www.youtube.com/watch?v=kuixY2bCc_0), наглядно объясняющее операцию матричного произведения."
   ]
  },
  {
   "cell_type": "markdown",
   "metadata": {
    "colab_type": "text",
    "id": "7dR1th--e75Y"
   },
   "source": [
    "**Примеры**"
   ]
  },
  {
   "cell_type": "markdown",
   "metadata": {
    "colab_type": "text",
    "id": "ZaF51dSXe75Z"
   },
   "source": [
    "> $A = \\begin{bmatrix}\n",
    "    3 & 2  \\\\\n",
    "    -1 & 0  \\\\\n",
    "    0.5 & 0.5 \\\\\n",
    "\\end{bmatrix},\n",
    "B = \\begin{bmatrix}\n",
    "    -5 & 0.5  \\\\\n",
    "    -10 & 10  \\\\\n",
    "    11 & 12 \\\\\n",
    "\\end{bmatrix}, \\\\\n",
    "A \\times B = \\text{не определено, т.к. размеры не удовлетворяют операции матричного произведения}$"
   ]
  },
  {
   "cell_type": "markdown",
   "metadata": {
    "colab_type": "text",
    "id": "Kq5MCwQRe75Z"
   },
   "source": [
    "Операция матричного произведения вызывается в `numpy` через @ (прямо как скалярное произведение для векторов):"
   ]
  },
  {
   "cell_type": "code",
   "execution_count": 0,
   "metadata": {
    "colab": {},
    "colab_type": "code",
    "id": "wm-MgCIje75Z",
    "outputId": "0e452578-f41f-4526-fc38-b46413d2f39e"
   },
   "outputs": [
    {
     "ename": "ValueError",
     "evalue": "matmul: Input operand 1 has a mismatch in its core dimension 0, with gufunc signature (n?,k),(k,m?)->(n?,m?) (size 3 is different from 2)",
     "output_type": "error",
     "traceback": [
      "\u001b[0;31m---------------------------------------------------------------------------\u001b[0m",
      "\u001b[0;31mValueError\u001b[0m                                Traceback (most recent call last)",
      "\u001b[0;32m<ipython-input-47-06844ea169c1>\u001b[0m in \u001b[0;36m<module>\u001b[0;34m\u001b[0m\n\u001b[1;32m      1\u001b[0m \u001b[0mA\u001b[0m \u001b[0;34m=\u001b[0m \u001b[0mnp\u001b[0m\u001b[0;34m.\u001b[0m\u001b[0marray\u001b[0m\u001b[0;34m(\u001b[0m\u001b[0;34m[\u001b[0m\u001b[0;34m[\u001b[0m\u001b[0;36m3\u001b[0m\u001b[0;34m,\u001b[0m\u001b[0;36m2\u001b[0m\u001b[0;34m]\u001b[0m\u001b[0;34m,\u001b[0m \u001b[0;34m[\u001b[0m\u001b[0;34m-\u001b[0m\u001b[0;36m1\u001b[0m\u001b[0;34m,\u001b[0m\u001b[0;36m0\u001b[0m\u001b[0;34m]\u001b[0m\u001b[0;34m,\u001b[0m \u001b[0;34m[\u001b[0m\u001b[0;36m0.5\u001b[0m\u001b[0;34m,\u001b[0m\u001b[0;36m0.5\u001b[0m\u001b[0;34m]\u001b[0m\u001b[0;34m]\u001b[0m\u001b[0;34m)\u001b[0m\u001b[0;34m\u001b[0m\u001b[0;34m\u001b[0m\u001b[0m\n\u001b[1;32m      2\u001b[0m \u001b[0mB\u001b[0m \u001b[0;34m=\u001b[0m \u001b[0mnp\u001b[0m\u001b[0;34m.\u001b[0m\u001b[0marray\u001b[0m\u001b[0;34m(\u001b[0m\u001b[0;34m[\u001b[0m\u001b[0;34m[\u001b[0m\u001b[0;34m-\u001b[0m\u001b[0;36m5\u001b[0m\u001b[0;34m,\u001b[0m\u001b[0;36m0.5\u001b[0m\u001b[0;34m]\u001b[0m\u001b[0;34m,\u001b[0m \u001b[0;34m[\u001b[0m\u001b[0;34m-\u001b[0m\u001b[0;36m10\u001b[0m\u001b[0;34m,\u001b[0m\u001b[0;36m10\u001b[0m\u001b[0;34m]\u001b[0m\u001b[0;34m,\u001b[0m \u001b[0;34m[\u001b[0m\u001b[0;36m11\u001b[0m\u001b[0;34m,\u001b[0m\u001b[0;36m12\u001b[0m\u001b[0;34m]\u001b[0m\u001b[0;34m]\u001b[0m\u001b[0;34m)\u001b[0m\u001b[0;34m\u001b[0m\u001b[0;34m\u001b[0m\u001b[0m\n\u001b[0;32m----> 3\u001b[0;31m \u001b[0mprint\u001b[0m\u001b[0;34m(\u001b[0m\u001b[0mA\u001b[0m \u001b[0;34m@\u001b[0m \u001b[0mB\u001b[0m\u001b[0;34m)\u001b[0m  \u001b[0;31m# операция матричного произведения вызывается через @\u001b[0m\u001b[0;34m\u001b[0m\u001b[0;34m\u001b[0m\u001b[0m\n\u001b[0m",
      "\u001b[0;31mValueError\u001b[0m: matmul: Input operand 1 has a mismatch in its core dimension 0, with gufunc signature (n?,k),(k,m?)->(n?,m?) (size 3 is different from 2)"
     ]
    }
   ],
   "source": [
    "A = np.array([[3,2], [-1,0], [0.5,0.5]])\n",
    "B = np.array([[-5,0.5], [-10,10], [11,12]])\n",
    "print(A @ B)  # операция матричного произведения вызывается через @"
   ]
  },
  {
   "cell_type": "markdown",
   "metadata": {
    "colab_type": "text",
    "id": "EjtTnrDbe75b"
   },
   "source": [
    "В данном случае `numpy` верно говорит, что не может умножить матрицы, потому что размеры не подходят."
   ]
  },
  {
   "cell_type": "markdown",
   "metadata": {
    "colab_type": "text",
    "id": "jM_djoeOe75b"
   },
   "source": [
    "> $A = \\begin{bmatrix}\n",
    "    3 & 2  \\\\\n",
    "    -1 & 0  \\\\\n",
    "    0.5 & 0.5 \\\\\n",
    "\\end{bmatrix},\n",
    "B = \\begin{bmatrix}\n",
    "    -5 & 0.5 & -10 \\\\\n",
    "    11 & 12 & 10  \\\\\n",
    "\\end{bmatrix}, \\\\\n",
    "A \\times B = \\begin{bmatrix}\n",
    "    3 & 2  \\\\\n",
    "    -1 & 0  \\\\\n",
    "    0.5 & 0.5 \\\\\n",
    "\\end{bmatrix} \\times \\begin{bmatrix}\n",
    "    -5 & 0.5 & -10 \\\\\n",
    "    11 & 12 & 10  \\\\\n",
    "\\end{bmatrix}= \\begin{bmatrix}\n",
    "    A{[1,:]} \\cdot B{[:,1]} &  A{[1,:]} \\cdot B{[:,2]} &  A{[1,:]} \\cdot B{[:,3]} \\\\\n",
    "    A{[2,:]} \\cdot B{[:,1]} &  A{[2,:]} \\cdot B{[:,2]} &  A{[2,:]} \\cdot B{[:,3]}  \\\\\n",
    "    A{[3,:]} \\cdot B{[:,1]} &  A{[3,:]} \\cdot B{[:,2]} &  A{[3,:]} \\cdot B{[:,3]} \\\\\n",
    "\\end{bmatrix} = \\begin{bmatrix}\n",
    "    (3, 2) \\cdot (-5, 11) &  (3, 2) \\cdot (0.5, 12) &  (3, 2) \\cdot (-10, 10) \\\\\n",
    "    (-1, 0) \\cdot (-5, 11) &  (-1, 0) \\cdot (0.5, 12) &  (-1, 0) \\cdot (-10, 10)  \\\\\n",
    "    (0.5, 0.5) \\cdot (-5, 11) &  (0.5, 0.5) \\cdot (0.5, 12) &  (0.5, 0.5) \\cdot (-10, 10) \\\\\n",
    "\\end{bmatrix} = \\begin{bmatrix}\n",
    "    7 &  25.5 &  -10 \\\\\n",
    "    5 &  -0.5 &  10 \\\\\n",
    "    3 &  6.25 &  0 \\\\\n",
    "\\end{bmatrix}$"
   ]
  },
  {
   "cell_type": "markdown",
   "metadata": {
    "colab_type": "text",
    "id": "PJM5LYewe75b"
   },
   "source": [
    "Тот же самый пример на `numpy`:"
   ]
  },
  {
   "cell_type": "code",
   "execution_count": 0,
   "metadata": {
    "colab": {},
    "colab_type": "code",
    "id": "kENw_6Qae75c",
    "outputId": "1a46ede9-9ad2-4f8c-ae8d-1cd96d59908a"
   },
   "outputs": [
    {
     "name": "stdout",
     "output_type": "stream",
     "text": [
      "[[  7.    25.5  -10.  ]\n",
      " [  5.    -0.5   10.  ]\n",
      " [  3.     6.25   0.  ]]\n"
     ]
    }
   ],
   "source": [
    "A = np.array([\n",
    "    [3,2], \n",
    "    [-1,0], \n",
    "    [0.5,0.5]\n",
    "])\n",
    "B = np.array([\n",
    "    [-5,0.5,-10],\n",
    "    [11,12,10]\n",
    "])\n",
    "print(A @ B)  # операция матричного произведения вызывается через @"
   ]
  },
  {
   "cell_type": "code",
   "execution_count": 0,
   "metadata": {
    "colab": {},
    "colab_type": "code",
    "id": "Gv0N8WMKe75d",
    "outputId": "26c314ec-93a2-4f00-c894-d61a22f8b6ce"
   },
   "outputs": [
    {
     "data": {
      "text/plain": [
       "array([[  7.  ,  25.5 , -10.  ],\n",
       "       [  5.  ,  -0.5 ,  10.  ],\n",
       "       [  3.  ,   6.25,   0.  ]])"
      ]
     },
     "execution_count": 51,
     "metadata": {
      "tags": []
     },
     "output_type": "execute_result"
    }
   ],
   "source": [
    "np.dot(A, B)  # или так"
   ]
  },
  {
   "cell_type": "markdown",
   "metadata": {
    "colab_type": "text",
    "id": "0EnRPBbUe75e"
   },
   "source": [
    "Напомним, что матрица называется **вектор-столбец**, если она имеет размер $n \\times 1$, и **вектор-строка**, если она имеет размер $1 \\times n$. Понятно, что это тоже матрицы, просто по сути они являются векторами.  \n",
    "\n",
    "Операция матричного произведения универсальна, например, умножим матрицу на столбец:"
   ]
  },
  {
   "cell_type": "markdown",
   "metadata": {
    "colab_type": "text",
    "id": "c76K9QUpe75f"
   },
   "source": [
    "> $A = \\begin{bmatrix}\n",
    "    3 & 2  \\\\\n",
    "    -1 & 0  \\\\\n",
    "    0.5 & 0.5 \\\\\n",
    "\\end{bmatrix},\n",
    "B = \\begin{bmatrix}\n",
    "    -5 \\\\\n",
    "    5 \\\\\n",
    "\\end{bmatrix}, \\\\\n",
    "A \\times B = \\begin{bmatrix}\n",
    "    3 & 2  \\\\\n",
    "    -1 & 0  \\\\\n",
    "    0.5 & 0.5 \\\\\n",
    "\\end{bmatrix} \\times \\begin{bmatrix}\n",
    "    -5 \\\\\n",
    "    5 \\\\\n",
    "\\end{bmatrix} = \\begin{bmatrix}\n",
    "    (3, 2) \\cdot (-5, 5) \\\\\n",
    "    (-1, 0) \\cdot (-5, 5) \\\\\n",
    "    (0.5, 0.5) \\cdot (-5, 5) \\\\\n",
    "\\end{bmatrix} = \\begin{bmatrix}\n",
    "    -5 \\\\\n",
    "    5 \\\\\n",
    "    0 \\\\\n",
    "\\end{bmatrix}$"
   ]
  },
  {
   "cell_type": "code",
   "execution_count": 0,
   "metadata": {
    "colab": {},
    "colab_type": "code",
    "id": "AM143Mt9e75f",
    "outputId": "f6cff6ee-57ea-4691-d499-0d9ff7e29fd7"
   },
   "outputs": [
    {
     "name": "stdout",
     "output_type": "stream",
     "text": [
      "[[-5.]\n",
      " [ 5.]\n",
      " [ 0.]]\n"
     ]
    }
   ],
   "source": [
    "A = np.array([\n",
    "    [3,2], \n",
    "    [-1,0], \n",
    "    [0.5,0.5]\n",
    "])\n",
    "B = np.array([\n",
    "    [-5],\n",
    "    [5]\n",
    "])\n",
    "print(A @ B)"
   ]
  },
  {
   "cell_type": "markdown",
   "metadata": {
    "colab_type": "text",
    "id": "OtOllVPDe75g"
   },
   "source": [
    "### Обратная матрица\n",
    "\n",
    "**Обратной матрицей к квадратной матрице** $A \\in R^{n\\times n}$ называется такая матрица $A^{-1} \\in R^{n\\times n}$, что:\n",
    "\n",
    "$$\n",
    "A \\times A^{-1} = A^{-1} \\times A = E_n\n",
    "$$\n",
    "\n",
    "где $E_n \\in R^{n\\times n}$ — **единичная матрица** размера $n$:  \n",
    "\n",
    "$$\n",
    "E_n = \\begin{bmatrix}\n",
    "    1 & 0 & 0 & \\dots  & 0 \\\\\n",
    "    0 & 1 & 0 & \\dots  & 0 \\\\\n",
    "    \\vdots & \\vdots & \\vdots & \\ddots & \\vdots \\\\\n",
    "    0 & 0 & 0 & \\dots  & 1\n",
    "\\end{bmatrix}\n",
    "$$"
   ]
  },
  {
   "cell_type": "markdown",
   "metadata": {
    "colab_type": "text",
    "id": "ZnEkKRZmN2ot"
   },
   "source": [
    "Элементы матрицы $a_{ij}$, стоящие на позициях $i = j$ (то есть элементы $a_{11}$, $a_{22}$, ..., $a_{nn}$) называют **главной диагональю** матрицы $A$. Заметьте, что главная диагональ есть не только у квадратных матриц — просто у прямоугольных последний элемент диагонали будет на позиции $a_{min(n,m),min(n,m)}$."
   ]
  },
  {
   "cell_type": "markdown",
   "metadata": {
    "colab_type": "text",
    "id": "UEsjRLt1e75h"
   },
   "source": [
    "Существует несколько способов найти обратную матрицу, например — [метод Гаусса-Жордана](http://mathprofi.ru/metod_zhordano_gaussa_nahozhdenie_obratnoi_matricy.html). Зачем уметь находить обратную матрицу? Дело в том, что это один из способов решать системы линейных уравнений, которые повсеместно встречаются в физике, теории оптимизации и эклономике.  \n",
    "Но нам наиболее интересен следующий пример: в машинном обучении есть **задача регрессии**, которую можно решать **линейной моделью**. Используя эту модель, мы можем записать задачу оптимизации так:\n",
    "\n",
    "$$\n",
    "|y - Xw|^2 \\to_w min\n",
    "$$\n",
    "\n",
    "где $X$ — матрица объекты-признаки, $w$ — веса модели, $y$ — столбец ответов. Эту задачу оптимизации — поиск  оптимальных весов $w$ — можно решать с помощью **метода наименьших квадратов**, который подразумевает взятие производной и приравнивание ее к нулю. С помощью взятия  производной по вектору выводится решение:\n",
    "\n",
    "$$\n",
    "w = (X^T X)^{-1} X^T y\n",
    "$$\n",
    "\n",
    "\n",
    "Так, мы нашли оптимальные веса, которые позволят хорошо предсказывать желаемую величину $y$. То есть мы только что научились **обучать линейную модель решать задачу регрессии** всего лишь с помощью операций матричного произведения, транспонирования и взятия обратной матрицы. Далее в курсе мы ещё обязательно поговорим о том, почему именно так решают редко и о задаче регрессии и линейных моделях в целом."
   ]
  },
  {
   "cell_type": "markdown",
   "metadata": {
    "colab_type": "text",
    "id": "YyJDmpFbe75h"
   },
   "source": [
    "В нашем курсе вам не нужно будет вручную считать обратные матрицы, в этом поможет функция `numpy` — `np.linalg.inv()`:"
   ]
  },
  {
   "cell_type": "code",
   "execution_count": 0,
   "metadata": {
    "colab": {},
    "colab_type": "code",
    "id": "lcd2m0Oee75h",
    "outputId": "5234b366-069d-401c-e12a-23ca39f9cf77"
   },
   "outputs": [
    {
     "name": "stdout",
     "output_type": "stream",
     "text": [
      "[[-2.   1. ]\n",
      " [ 1.5 -0.5]]\n"
     ]
    }
   ],
   "source": [
    "A = np.array([\n",
    "    [1,2],\n",
    "    [3,4]\n",
    "])\n",
    "A_inv = np.linalg.inv(A)\n",
    "print(A_inv)"
   ]
  },
  {
   "cell_type": "markdown",
   "metadata": {
    "colab_type": "text",
    "id": "BhN9a8CYe75i"
   },
   "source": [
    "Проверим по определению, что это правильная обратная матрица:"
   ]
  },
  {
   "cell_type": "code",
   "execution_count": 0,
   "metadata": {
    "colab": {},
    "colab_type": "code",
    "id": "PoWOOtCZe75j",
    "outputId": "7d5feaaf-2989-4e33-c474-f50d5b30ea77"
   },
   "outputs": [
    {
     "data": {
      "text/plain": [
       "array([[1.00000000e+00, 1.11022302e-16],\n",
       "       [0.00000000e+00, 1.00000000e+00]])"
      ]
     },
     "execution_count": 56,
     "metadata": {
      "tags": []
     },
     "output_type": "execute_result"
    }
   ],
   "source": [
    "A @ A_inv"
   ]
  },
  {
   "cell_type": "markdown",
   "metadata": {
    "colab_type": "text",
    "id": "uxKk_qbqe75k"
   },
   "source": [
    "Все правильно, получена единичная матрица верного размера."
   ]
  },
  {
   "cell_type": "markdown",
   "metadata": {
    "colab_type": "text",
    "id": "eEiAxMl9e75l"
   },
   "source": [
    "### Резюме"
   ]
  },
  {
   "cell_type": "markdown",
   "metadata": {
    "colab_type": "text",
    "id": "0CdnwVzye75l"
   },
   "source": [
    "Мы познакомились с понятиями **матрицы** и с **поэлементными операциями**. Обсудили операции **матричного произведения**, взятия **обратной матрицы** и **транспонирования**, убедились в их прикладном значении на реальном примере задачи регрессии из машинного обучения.\n",
    "\n",
    "Далее вас ждет подробный ноутбук с практикой по библиотеке `Numpy`, поскольку это одна из самых важных библиотек в анализе данных и машинном обучении."
   ]
  }
 ],
 "metadata": {
  "colab": {
   "collapsed_sections": [],
   "name": "[linalg]matrices.ipynb",
   "provenance": []
  },
  "kernelspec": {
   "display_name": "Python 3",
   "language": "python",
   "name": "python3"
  },
  "language_info": {
   "codemirror_mode": {
    "name": "ipython",
    "version": 3
   },
   "file_extension": ".py",
   "mimetype": "text/x-python",
   "name": "python",
   "nbconvert_exporter": "python",
   "pygments_lexer": "ipython3",
   "version": "3.7.4"
  }
 },
 "nbformat": 4,
 "nbformat_minor": 1
}
