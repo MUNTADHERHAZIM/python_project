{
 "cells": [
  {
   "cell_type": "markdown",
   "metadata": {
    "colab_type": "text",
    "id": "aFQw4P-xNpXp"
   },
   "source": [
    "# Производная функции одной переменной"
   ]
  },
  {
   "cell_type": "markdown",
   "metadata": {
    "colab_type": "text",
    "id": "-n7rOih9NpXu"
   },
   "source": [
    "Для начала мы будем рассматривать производные функций одной переменной, потом обобщим это понятие на функции многих переменных."
   ]
  },
  {
   "cell_type": "markdown",
   "metadata": {
    "colab_type": "text",
    "id": "LSW3dwznNpXw"
   },
   "source": [
    "## Смысл производной"
   ]
  },
  {
   "cell_type": "markdown",
   "metadata": {
    "colab_type": "text",
    "id": "cG6XZXG_NpXz"
   },
   "source": [
    "Для начала рассмотрим нам уже знакомую с прошлого ноутбука функцию <br>\n",
    "$F(x) = x^4 + 5x^3 - 10x$ на интервале $x \\in[-5, 2]$:"
   ]
  },
  {
   "cell_type": "code",
   "execution_count": 0,
   "metadata": {
    "colab": {},
    "colab_type": "code",
    "id": "z8t7qeiNNpX1"
   },
   "outputs": [],
   "source": [
    "import numpy as np\n",
    "import matplotlib.pyplot as plt"
   ]
  },
  {
   "cell_type": "code",
   "execution_count": 0,
   "metadata": {
    "colab": {},
    "colab_type": "code",
    "id": "JEpj06NjNpX9",
    "outputId": "1040a0ba-7e16-4870-fc45-22bc67bd768b"
   },
   "outputs": [
    {
     "data": {
      "text/plain": [
       "<matplotlib.collections.PathCollection at 0x7ff74c7142e8>"
      ]
     },
     "execution_count": 6,
     "metadata": {
      "tags": []
     },
     "output_type": "execute_result"
    },
    {
     "data": {
      "image/png": "[encoded data removed]",
      "text/plain": [
       "<Figure size 432x288 with 1 Axes>"
      ]
     },
     "metadata": {
      "needs_background": "light",
      "tags": []
     },
     "output_type": "display_data"
    }
   ],
   "source": [
    "def F(x):\n",
    "    return x**4 + 5*x**3 - 10*x\n",
    "\n",
    "x = np.linspace(-5, 2, 100)\n",
    "y = list(map(F, x))\n",
    "\n",
    "plt.plot(x, y)\n",
    "plt.ylabel(\"Y\")\n",
    "plt.xlabel(\"X\")\n",
    "plt.scatter([-3.5518, -0.9439, 0.7457], [F(-3.5518), F(-0.9439), F(0.7457)])"
   ]
  },
  {
   "cell_type": "markdown",
   "metadata": {
    "colab_type": "text",
    "id": "o9d8PFfwNpYK"
   },
   "source": [
    "Как мы помним, эта функция имеет два локальных минимума в точках $x \\sim -3.5518$ и $x \\sim 0.7457$, один локальный максимум в точке $x \\sim -0.9439$, а также она убывает на отрезках $[-5, -3.5518]$ и $[-0.9439, 0.7457]$ и возрастает на отрезках $[-3.5518, -0.9439]$ и $[0.7457, 2]$."
   ]
  },
  {
   "cell_type": "markdown",
   "metadata": {
    "colab_type": "text",
    "id": "8QUoZHdCNpYL"
   },
   "source": [
    "Посмотрим на график в местах, где функция убывает. Это отрезки $[-5, -3.5518]$ и $[-0.9439, 0.7457]$. Заметим, что на этих двух отрезках функция убывает с разной скоростью. На отрезке $[-5, -3.5518]$ она убывает быстрее (\"склон\" функции более крутой, при изменении координаты $x$ на 1 значение функции $y$ меняется быстро), а на отрезке $[-0.9439, 0.7457]$ функция убывает медленнее (при изменении координаты $x$ на 1 значение функции $y$ меняется на меньше число, чем на предыдущем отрезке)\n",
    "\n",
    "Давайте научимся измерять скорость убывания/возрастания функции и введем строгие определения."
   ]
  },
  {
   "cell_type": "markdown",
   "metadata": {
    "colab_type": "text",
    "id": "q1W6ANfnNpYN"
   },
   "source": [
    "<a href=\"https://ibb.co/hgW7bnD\"><img src=\"https://i.ibb.co/2FtnxLg/2020-01-28-01-00-23.jpg\" alt=\"2020-01-28-01-00-23\" border=\"0\"></a>"
   ]
  },
  {
   "cell_type": "markdown",
   "metadata": {
    "colab_type": "text",
    "id": "dpwiK2cbNpYO"
   },
   "source": [
    "Рассмотрим точки $(x_1, y_1) = (-5, 50)$ и $(x_2, y_2) \\sim (-0.8, -5)$ графика функции (см. рисунок). Отступим от них по координате $x$ на одинаковый шаг $\\Delta x > 0$, попадем на другие точки на графике. При этом величины координат $y_1$ и $y_2$ тоже поменяются на некоторые величины $\\Delta y_1$ и $\\Delta y_2$. \n",
    "\n",
    "Добавленные величины $\\Delta y_1$ и $\\Delta y_2$ назваются **приращениями функции**, а величина $\\Delta x$ &mdash; **приращением аргумента**"
   ]
  },
  {
   "cell_type": "markdown",
   "metadata": {
    "colab_type": "text",
    "id": "wMfQe4_wNpYP"
   },
   "source": [
    "Заметим, что $\\Delta y_2 < \\Delta y_1$\n",
    "\n",
    "Рассмотрим тогда отношения $\\frac{\\Delta y_1}{\\Delta x}$ и $\\frac{\\Delta y_2}{\\Delta x}$. Можно сказать, что эти отношения являются мерилами скорости убывания функции на отрезках $[x_1, x_1 + \\Delta x]$ и $(x_2, x_2 + \\Delta x)$ соответственно. <br>\n",
    "Действительно, отношение $\\frac{\\Delta y_1}{\\Delta x}$ показывает, на сколько в среднем меняется значение функции при изменении значения аргумента на 1. \n",
    "\n",
    "**Чем больше отношение $\\frac{\\Delta y_1}{\\Delta x}$ по модулю, тем выше скорость убывания/возрастания функции**."
   ]
  },
  {
   "cell_type": "markdown",
   "metadata": {
    "colab_type": "text",
    "id": "66o-XoOVNpYQ"
   },
   "source": [
    "Можно привести аналогию с горами &mdash; рассмотрим график как дорогу, идущую то в гору, то с горы. Отношение $\\frac{\\Delta y_1}{\\Delta x}$, насколько сильно меняется высота дороги на каждый метр пути относительно земли. Насколько быстро растет/падает высота горы."
   ]
  },
  {
   "cell_type": "markdown",
   "metadata": {
    "colab_type": "text",
    "id": "h5rUJMgfNpYR"
   },
   "source": [
    "Заметим, что в премере выше приращения $\\Delta y_1$ и $\\Delta y_2$ &mdash; отрицательные числа (функция убывает). Значит, и отношение $\\frac{\\Delta y_1}{\\Delta x} < 0$. \n",
    "\n",
    "В местах, где функция возрастает, отношение $\\frac{\\Delta y_1}{\\Delta x}$ будет положительно."
   ]
  },
  {
   "cell_type": "markdown",
   "metadata": {
    "colab_type": "text",
    "id": "NaA-s8rLNpYS"
   },
   "source": [
    "**Если отношение $\\frac{\\Delta y_1}{\\Delta x} > 0$, то функция возрастает, если < 0 &mdash; убывает**."
   ]
  },
  {
   "cell_type": "markdown",
   "metadata": {
    "colab_type": "text",
    "id": "Li5HGJe-NpYW"
   },
   "source": [
    "Итак, таким образом, **исследуя приращение функции при изменении аргумента в некоторой точке, можно делать выводы о возрастании/убывании функции и о скорости роста/убывания функции в окрестности этой точки**."
   ]
  },
  {
   "cell_type": "markdown",
   "metadata": {
    "colab_type": "text",
    "id": "fMP0UxYrViZk"
   },
   "source": [
    "------------------------------"
   ]
  },
  {
   "cell_type": "markdown",
   "metadata": {
    "colab_type": "text",
    "id": "WCVAWa_7NpYY"
   },
   "source": [
    "Теперь встает логичный вопрос: какую величину $\\Delta x$ лучше всего выбирать, чтобы лучше оценить поведение функции в области у некоторой точки $(x, y)$?\n",
    "\n",
    "Давайте рассмотрим пример, где мы выбрали величину $\\Delta x$ больше, чем в предыдущем примере:"
   ]
  },
  {
   "cell_type": "markdown",
   "metadata": {
    "colab_type": "text",
    "id": "6s3gIAhPNpYc"
   },
   "source": [
    "<a href=\"https://ibb.co/58KxDzx\"><img src=\"https://i.ibb.co/qsJFG4F/2020-01-28-23-32-16.jpg\" alt=\"2020-01-28-23-32-16\" border=\"0\"></a>"
   ]
  },
  {
   "cell_type": "markdown",
   "metadata": {
    "colab_type": "text",
    "id": "Rlk04TJ3NpYd"
   },
   "source": [
    "Мы находились в точке $(x_2, y_2) \\sim (0.8, 5)$ и сдвинулись по координате $x$ на величину $\\Delta x' > \\Delta x$, попали в точку $(x_2 + \\Delta x', y_2 + \\Delta y'_2)$. Заметим, что $\\Delta y'_2 > 0$ и отношение $\\frac{\\Delta y'_2}{\\Delta x'} > 0$. По опыту рассуждений выше, это нам говорит о том, что на отрезке $[x_2, x_2 + \\Delta x']$ функция возрастает в среднем на $\\frac{\\Delta y'_2}{\\Delta x'}$ при изменении значения аргумента на 1. \n",
    "\n",
    "Но так ли это?"
   ]
  },
  {
   "cell_type": "markdown",
   "metadata": {
    "colab_type": "text",
    "id": "8eOOxeh_NpYe"
   },
   "source": [
    "На графике мы явно видим, что в точке $(x_2, y_2)$ функция убывает, а затем возрастает и приходит в точку $(x_2 + \\Delta x', y_2 + \\Delta y'_2)$. То есть, наш вывод о том, как ведет себя график в окрестности точки $(x_2, y_2)$ , немного неточен. Отступив от точки $(x_2, y_2)$ на слишком большой шаг $\\Delta x'$, мы \"перешагнули\" через точку локального минимума функции и ошибочно решили, что в окрестности точки $(x_2, y_2)$ функция возрастает."
   ]
  },
  {
   "cell_type": "markdown",
   "metadata": {
    "colab_type": "text",
    "id": "eroFcV62NpYf"
   },
   "source": [
    "Это как если бы вы стояли на вершине горы, потом спустились с нее, потом поднялись на другую гору такой же высоты и сказали: \"ну, моя итоговая высота изменилась на 0 метров. Значит, вся моя дорога была прямая\"."
   ]
  },
  {
   "cell_type": "markdown",
   "metadata": {
    "colab_type": "text",
    "id": "6ZMmGnroNpYg"
   },
   "source": [
    "Значит, чтобы делать верные выводы о том, как ведет себя функция в окрестности некоторой точки, нужно брать $\\Delta x$ маленьким. Но насколько маленьким?"
   ]
  },
  {
   "cell_type": "markdown",
   "metadata": {
    "colab_type": "text",
    "id": "lYkIEU2nNpYg"
   },
   "source": [
    "Ответ такой: бесконечно маленьким. Никакая конечная величина $\\Delta x$ не подойдет. Действительно, для любой величины $\\Delta x$ я могу найти такую функцию, что ее график будет выглядеть так:"
   ]
  },
  {
   "cell_type": "markdown",
   "metadata": {
    "colab_type": "text",
    "id": "Dz0go1TJNpYh"
   },
   "source": [
    "<a href=\"https://ibb.co/ZYNm4Sm\"><img src=\"https://i.ibb.co/Nm7SDrS/2020-01-29-00-13-31.jpg\" alt=\"2020-01-29-00-13-31\" border=\"0\"></a>"
   ]
  },
  {
   "cell_type": "markdown",
   "metadata": {
    "colab_type": "text",
    "id": "xozwB2CBNpYi"
   },
   "source": [
    "То есть, мы все равно перескочем через точку локального минимума и не поймем, что функция в точке убывала, а не возрастала. "
   ]
  },
  {
   "cell_type": "markdown",
   "metadata": {
    "colab_type": "text",
    "id": "gvDmTwBgNpYi"
   },
   "source": [
    "Ну и, напоследок, даже если на отрезке $[x, x + \\Delta x]$ нет локальных минимумов/максимумов и функция постоянно убывает/возрастает, она может возрастать/убывать с разной скоростью. Например, функция $F(x) = x^4$ на отрезке $[1, 15]$ начинает возрастать быстрее (график становится \"круче\") при приближении к $x = 15$. И делать вывод о скорости роста функции в точке 1 как о средней скорости роста функции на отрезке $[1, 15]$ не совсем корректно."
   ]
  },
  {
   "cell_type": "code",
   "execution_count": 0,
   "metadata": {
    "colab": {},
    "colab_type": "code",
    "id": "u1aBnWrZNpYj",
    "outputId": "570846e9-f131-4b58-ed23-ee1c1b18e756"
   },
   "outputs": [
    {
     "data": {
      "text/plain": [
       "Text(0.5, 0, 'X')"
      ]
     },
     "execution_count": 9,
     "metadata": {
      "tags": []
     },
     "output_type": "execute_result"
    },
    {
     "data": {
      "image/png": "[encoded data removed]",
      "text/plain": [
       "<Figure size 432x288 with 1 Axes>"
      ]
     },
     "metadata": {
      "needs_background": "light",
      "tags": []
     },
     "output_type": "display_data"
    }
   ],
   "source": [
    "def F(x):\n",
    "    return x**4\n",
    "\n",
    "x = np.linspace(1, 15, 100)\n",
    "y = list(map(F, x))\n",
    "\n",
    "plt.plot(x, y)\n",
    "plt.ylabel(\"Y\")\n",
    "plt.xlabel(\"X\")"
   ]
  },
  {
   "cell_type": "markdown",
   "metadata": {
    "colab_type": "text",
    "id": "zgRHK49nNpYn"
   },
   "source": [
    "**Что же делать?**"
   ]
  },
  {
   "cell_type": "markdown",
   "metadata": {
    "colab_type": "text",
    "id": "h5w6pzBmNpYp"
   },
   "source": [
    "Здесь нам пригодится понятие предела функции, рассмотренное в ноутбуке про функции. \n",
    "\n",
    "Давайте возьмем некоторый $\\Delta x > 0$ и устремим его к нулю. То есть, будем его постепенно уменьшать. <br>\n",
    "Другими словами &mdash; построим последовательность чисел, начиная с $\\Delta x > 0$, предел которой &mdash; 0.\n",
    "\n",
    "Например, мы можем взять $\\Delta x = 1$ и последовательность чисел <br>\n",
    "$$1, \\frac{1}{2}, \\frac{1}{3}, ... \\frac{1}{n}, ...$$\n",
    "\n",
    "Теперь возьмем функцию $F$ и некоторую точку этой функции $(x, y)$. Рассмотрим приращение $x + \\Delta x$ и соответствующее приращение функции $y + \\Delta y = F(x + \\Delta x)$. Будем постепенно уменьшать приращения $\\Delta x$, подставляя вместо $\\Delta x$ члены заданной выше последовательности. Получим последовательность $\\Delta y$:\n",
    "\n",
    "$$\\Delta y_1 = F(x + 1) - F(x),$$ <br>\n",
    "$$\\Delta y_2 = F(x + \\frac{1}{2}) - F(x),$$  <br>\n",
    "$$\\Delta y_3 = F(x + \\frac{1}{3}) - F(x),$$ <br>\n",
    "$$...$$"
   ]
  },
  {
   "cell_type": "markdown",
   "metadata": {
    "colab_type": "text",
    "id": "33WVP4gbNpYq"
   },
   "source": [
    "И, соответственно, получим последовательность отношений $\\frac{\\Delta y}{\\Delta x}$:\n",
    "\n",
    "$$\\frac{\\Delta y_1}{1} = \\frac{F(x + 1) - F(x)}{1},$$ <br>\n",
    "$$\\frac{\\Delta y_1}{2} = \\frac{F(x + 2) - F(x)}{2},$$ <br>\n",
    "$$\\frac{\\Delta y_1}{3} = \\frac{F(x + 3) - F(x)}{3},$$ <br>\n",
    "$$...$$"
   ]
  },
  {
   "cell_type": "markdown",
   "metadata": {
    "colab_type": "text",
    "id": "dByMGLFbNpYr"
   },
   "source": [
    "Уменьшая $\\Delta x$, мы будем отходить от точки $(x, y)$ все меньше и **отношение $\\frac{\\Delta y}{\\Delta x}$ будет все точнее отражать характер поведения функции $F$ вблизи точки $(x, y)$**\n",
    "\n",
    "Нетрудно догадаться, что итоговая величина, которая наиболее точно отразит характер поведения функции $F$ вблизи точки $(x, y)$ есть предел функции $\\frac{\\Delta y}{\\Delta x} = \\frac{F(x + \\Delta x) - F(x)}{\\Delta x}$ при $\\Delta x$ стремящемся к нулю. То есть, мы лучшим образом опишем поведение функции около точки $(x, y)$, когда мы отходим от точки $(x, y)$ на бесконечно малое расстояние.\n",
    "\n",
    "Эта величина называется **производной функции F в точке x**\n",
    "\n",
    "Записывается это так:"
   ]
  },
  {
   "cell_type": "markdown",
   "metadata": {
    "colab_type": "text",
    "id": "hMHhY3fcNpYr"
   },
   "source": [
    "$$F'(x) = \\lim_{\\Delta x \\to 0} \\frac{F(x + \\Delta x) - F(x)}{\\Delta x}$$"
   ]
  },
  {
   "cell_type": "markdown",
   "metadata": {
    "colab_type": "text",
    "id": "rtWxqJq7NpYs"
   },
   "source": [
    "(заметим, что последовательность $\\Delta x = 1, \\frac{1}{2}, \\frac{1}{3}, ... \\frac{1}{n}, ...$ никогда не дойдет до 0, поэтому знаменатель в формуле $F'(x)$ всегда определен)"
   ]
  },
  {
   "cell_type": "markdown",
   "metadata": {
    "colab_type": "text",
    "id": "_A1yyDtlNpYs"
   },
   "source": [
    "Этот предел может существовать, а может не существовать. Если он существует, то функция $F$ называется **дифференцируемой в точке** $(x, y)$. <br>\n",
    "Если функция дифференцируема во всех точках, то функция называется просто дифференцируемой."
   ]
  },
  {
   "cell_type": "markdown",
   "metadata": {
    "colab_type": "text",
    "id": "LKUi7m88NpYt"
   },
   "source": [
    "Итак, давайте подитожим:"
   ]
  },
  {
   "cell_type": "markdown",
   "metadata": {
    "colab_type": "text",
    "id": "D8juT7luS_s6"
   },
   "source": [
    "## Определение производной"
   ]
  },
  {
   "cell_type": "markdown",
   "metadata": {
    "colab_type": "text",
    "id": "evWoubSnY1n9"
   },
   "source": [
    "**производная функции F в точке x**\n",
    "$$F'(x) = \\lim_{\\Delta x \\to 0} \\frac{F(x + \\Delta x) - F(x)}{\\Delta x}$$\n",
    "\n",
    "Также говорят \"производня функции $F$ по $x$\""
   ]
  },
  {
   "cell_type": "markdown",
   "metadata": {
    "colab_type": "text",
    "id": "CfpWvjEVTChb"
   },
   "source": [
    "**производная функции в точке показывает характер изменения функции в точке**, а именно:\n",
    "\n",
    "**Модуль значения производной говорит о скорости убывания/возрастания функции**. <br>\n",
    "Если в одной точке производная функции равна 5, а в другой &mdash; 3, то в первой точке функция возрастает быстрее, чем во второй.\n",
    "\n",
    "**Знак производной показывает характер изменения функции в точке** <br>\n",
    "То есть, если производная > 0, это значит, что функция в точке возрастает. если производная < 0, это значит, что функция в точке убывает. А если производная = 0, то в этой точке находится локальный минимум/максимум.\n",
    "\n"
   ]
  },
  {
   "cell_type": "markdown",
   "metadata": {
    "colab_type": "text",
    "id": "pwfMX1V5tCaB"
   },
   "source": [
    "> Пример #1 <br>\n",
    "Рассмотрим функцию $F(x) = x^2$ и точки $(-10, -100)$, $(2, 4)$ и $(25, 625)$:"
   ]
  },
  {
   "cell_type": "code",
   "execution_count": 0,
   "metadata": {
    "colab": {
     "base_uri": "https://localhost:8080/",
     "height": 296
    },
    "colab_type": "code",
    "id": "DSjkjkQ9ukA-",
    "outputId": "27c7d3d3-1f3b-4e9f-af14-c5d6ae703770"
   },
   "outputs": [
    {
     "data": {
      "text/plain": [
       "<matplotlib.collections.PathCollection at 0x7ff73be48ba8>"
      ]
     },
     "execution_count": 9,
     "metadata": {
      "tags": []
     },
     "output_type": "execute_result"
    },
    {
     "data": {
      "image/png": "[encoded data removed]",
      "text/plain": [
       "<Figure size 432x288 with 1 Axes>"
      ]
     },
     "metadata": {
      "tags": []
     },
     "output_type": "display_data"
    }
   ],
   "source": [
    "def F(x):\n",
    "    return x**2\n",
    "\n",
    "x = np.linspace(-30, 30, 100)\n",
    "y = list(map(F, x))\n",
    "\n",
    "plt.plot(x, y)\n",
    "plt.ylabel(\"Y\")\n",
    "plt.xlabel(\"X\")\n",
    "plt.scatter([-10, 2, 25], [F(-10), F(2), F(25)])"
   ]
  },
  {
   "cell_type": "markdown",
   "metadata": {
    "colab_type": "text",
    "id": "c13BsE_9u7AS"
   },
   "source": [
    "> Производная функции $F$ в точке $x=-10$ равна $-20$, в точке $x=2$ равна $4$ , в точке $x=25$ равна $50$ (как вычислять производные, мы научимся позже). <br>\n",
    "<br>\n",
    "Заметим, что производные в точках $x=2$ и $x=25$ положительны, а в точке $-10$ -- отрицательна. Это говорит о том, что в точках $x=2$ и $x=25$ функция возрастает, а в точке $-10$ &mdash; убывает. И это правда так &mdash; посмотрите на график. <br>\n",
    "Также заметим, что производная в точке $x=25$ по модулю больше, чем производная в точках $x=-10$ и $x=2$. Это значит, что скорость возрастания функции $F$ в точке $x=25$ выше, чем скорость возрастания в точке $x=2$ и скорость убывания в точке $x=-10$. И это тоже действительно так &mdash; см. график."
   ]
  },
  {
   "cell_type": "markdown",
   "metadata": {
    "colab_type": "text",
    "id": "z2D1UMaVymhO"
   },
   "source": [
    "> Пример #2 <br>\n",
    "Вычислим производную функции $F(x) = -2x - 1$ в точке $x = x_0$ по определению. <br>\n",
    "<br>\n",
    "$$F'(x_0) = \\lim_{\\Delta x \\to 0} \\frac{F(x_0 + \\Delta x) - F(x_0)}{\\Delta x} = \\lim_{\\Delta x \\to 0} \\frac{-2(x_0 + \\Delta x) - 1 + 2x_0 + 1}{\\Delta x} = \\lim_{\\Delta x \\to 0} \\frac{-2 \\Delta x}{\\Delta x} = \\lim_{\\Delta x \\to 0} -2 = -2$$\n",
    "<br>\n",
    "Заметим, что получившееся значение производной $-2$ не зависит от $x_0$, а значит, производная функции $F(x) = -2x - 1$ во всех точках равна $-2$. <br>\n",
    "Также здесь нам не потребовалось вычислять предел, потому что $\\Delta x$ просто сократилось =)"
   ]
  },
  {
   "cell_type": "markdown",
   "metadata": {
    "colab_type": "text",
    "id": "fPHl5wbZzmDD"
   },
   "source": [
    "> Пример #3 <br>\n",
    "Вычислим производную функции $F(x) = 2x^2$ в точке $x = x_0$ по определению. <br>\n",
    "<br>\n",
    "$$F'(x_0) = \\lim_{\\Delta x \\to 0} \\frac{F(x_0 + \\Delta x) - F(x_0)}{\\Delta x} = \\lim_{\\Delta x \\to 0} \\frac{2(x_0 + \\Delta x)^2 - 2x_0^2}{\\Delta x} = \\lim_{\\Delta x \\to 0} \\frac{4x_0 \\Delta x + 2\\Delta x^2}{\\Delta x} =$$\n",
    "<br>\n",
    "$$= \\lim_{\\Delta x \\to 0} (4x_0 + 2 \\Delta x) = \\lim_{\\Delta x \\to 0} 4x_0 + \\lim_{\\Delta x \\to 0} 2 \\Delta x = 4x_0$$\n",
    "<br>\n",
    "(при $\\Delta x \\to 0$ предел выражения $2 \\Delta x$ есть 0, поэтому остается только $4x_0$)<br>\n",
    "<br>\n",
    "Итак, в точке $x_0$ производная функции $F(x) = 2x^2$ равна $4x_0$\n",
    "<br>\n",
    "<br>\n",
    "Подставляя вместо $x_0$ числа, можем получать значения производной в точках. Например, <br>\n",
    "$F'(5) = 4*5 = 20$"
   ]
  },
  {
   "cell_type": "markdown",
   "metadata": {
    "colab_type": "text",
    "id": "uYUUTvrHnPJo"
   },
   "source": [
    "**P.S.** Может быть, вы сейчас задаетесь вопросом, зачем нам нужна производная, чтобы определять возрастание/убывание/точки минимума функции, ведь мы можем нарисовать график и увидеть все, не считая никаких производных. <br>\n",
    "Подумайте о том, что сейчас мы введем производные функций многих переменных, на графики которых посмотреть не получится -- они не поменяются в трехмерное пространство =) Поэтому исследовать такие функции остается только с помощью производных."
   ]
  },
  {
   "cell_type": "markdown",
   "metadata": {
    "colab_type": "text",
    "id": "ZVn2OunErh_8"
   },
   "source": [
    "## Производная как функция"
   ]
  },
  {
   "cell_type": "markdown",
   "metadata": {
    "colab_type": "text",
    "id": "2wdZE2rErtuW"
   },
   "source": [
    "До сих пор мы говорили о производной в конкретной точке $x$ функции $F$. Давайте теперь допустим, что функция $F$ дифференцируема на всей своей области определения, то есть имеет производную во всех точках.\n",
    "\n",
    "Тогда можно определить производную функции $F$ как функцию от аргумента $x$:\n",
    "$F'(x) = \\lim_{\\Delta x \\to 0} \\frac{F(x + \\Delta x) - F(x)}{\\Delta x}$\n",
    "\n",
    "То есть, **производная функции есть тоже функция**."
   ]
  },
  {
   "cell_type": "markdown",
   "metadata": {
    "colab_type": "text",
    "id": "cZH0QmRFwtWW"
   },
   "source": [
    "> Пример #4 <br>\n",
    "Рассмотрим ту же функцию $F(x) = x^2$. Ее производная есть функция $F'(x) = 2x$ (как вычислять производные, мы научимся позже). <br>\n",
    "<br>\n",
    "Давайте подставиим точки, рассмотренные в предыдущем примере, в эту функцию: <br> \n",
    "$F'(-10) = 2*(-10) = -20$ <br>\n",
    "$F'(2) = 2*(2) = 4$ <br>\n",
    "$F'(35) = 2*(25) = 50$ <br>\n",
    "<br>\n",
    "Все сходится =)"
   ]
  },
  {
   "cell_type": "markdown",
   "metadata": {
    "colab_type": "text",
    "id": "4-PXT6RA1434"
   },
   "source": [
    "> Пример #5 <br>\n",
    "В премере #2 мы рассмотрели функцию $F(x) = -2x - 1$ и выяснили, что ее производная во всех точках равна $-2$. Это значит, что функция производной есть:\n",
    "$$F'(x) = -2$$"
   ]
  },
  {
   "cell_type": "markdown",
   "metadata": {
    "colab_type": "text",
    "id": "HXjgMlht2T8X"
   },
   "source": [
    "> Пример #6 <br>\n",
    "В премере #3 мы рассмотрели функцию $F(x) = 2x^2$ и выяснили, что ее производная в точке $x_0$ точках равна $4x_0$. Так как точка $x_0$ произвольная, это значит, что функция производной есть:\n",
    "$$F'(x) = 4x$$"
   ]
  },
  {
   "cell_type": "markdown",
   "metadata": {
    "colab_type": "text",
    "id": "cfbf09-INpYu"
   },
   "source": [
    "## Геометрический смысл производной"
   ]
  },
  {
   "cell_type": "markdown",
   "metadata": {
    "colab_type": "text",
    "id": "6tc_4Nkw3HIU"
   },
   "source": [
    "Рассмотрим функцию $F = x^2$, точку $(x, y) = (x, F(x))$ и зададим приращение аргумента $\\Delta x$. Приращение значения функции составит $\\Delta y = F(x + \\Delta x) - F(x)$. \n",
    "\n",
    "Через две точки $(x, y)$ и $(x + \\Delta x, y+ \\Delta y)$ проведем прямую. Она называется **секущей**."
   ]
  },
  {
   "cell_type": "markdown",
   "metadata": {
    "colab_type": "text",
    "id": "kc_f1-234zSJ"
   },
   "source": [
    "<a href=\"https://imgbb.com/\"><img src=\"https://i.ibb.co/wsxHv5V/giphy.gif\" alt=\"giphy\" width=\"350\" height=\"255\" border=\"0\"></a>"
   ]
  },
  {
   "cell_type": "markdown",
   "metadata": {
    "colab_type": "text",
    "id": "KcZ00swa5Pf6"
   },
   "source": [
    "Заметим, что у нас получился прямоугольный треугольник с катетами $\\Delta y$ и $\\Delta x$. Тогда из геометрии мы получаем, что отношение приращения функции к приращению аргемента $\\frac{\\Delta y}{\\Delta x}$ есть отношение противолежащего катета этого треугольника к прилежашему, то есть, равно тангенсу угла $\\alpha$ между катетом $\\Delta x$ и гипотенузой (тангенсу угла наклона касательной):"
   ]
  },
  {
   "cell_type": "markdown",
   "metadata": {
    "colab_type": "text",
    "id": "dgVm9cNB72S9"
   },
   "source": [
    "<a href=\"https://ibb.co/GHbFXG8\"><img src=\"https://i.ibb.co/0sdQk16/2020-01-29-13-53-10.jpg\" width=\"350\" height=\"255\" alt=\"2020-01-29-13-53-10\" border=\"0\"></a>"
   ]
  },
  {
   "cell_type": "markdown",
   "metadata": {
    "colab_type": "text",
    "id": "OGbKihLG40_f"
   },
   "source": [
    "Будем теперь, как и раньше, уменьшать значение $\\Delta x$. Точка $(x + \\Delta x, y+ \\Delta y)$ будет двигаться по графику к точке $(x, y)$, а вместе с ней и секущая:"
   ]
  },
  {
   "cell_type": "markdown",
   "metadata": {
    "colab_type": "text",
    "id": "8foaTEXoaBIM"
   },
   "source": [
    "![alt text](https://media.giphy.com/media/rDaWuLJZxAp6o/giphy.gif)"
   ]
  },
  {
   "cell_type": "markdown",
   "metadata": {
    "colab_type": "text",
    "id": "UAqY8CKq5Iw2"
   },
   "source": [
    "Заметим, что при приближении точки $(x + \\Delta x, y+ \\Delta y)$ к точке $(x, y)$ касательная все сильнее приближается к положению **касательной** в точке $(x, y)$ и в конце концов совпадет с ней. В итоге мы получаем определение касательной:\n",
    "\n",
    "**Касательная к графику функции $F$ в точке $(x, y)$ &mdash; это предельное положение секщей в этой точке.**"
   ]
  },
  {
   "cell_type": "markdown",
   "metadata": {
    "colab_type": "text",
    "id": "YbTAjoQA9CTb"
   },
   "source": [
    "Вспомним теперь про то, что $\\frac{\\Delta y}{\\Delta x}$ есть тангенс угла наклона касательной. <br>\n",
    "Так как значение производной в точке $(x, y)$ есть предельное значение выражения $\\frac{\\Delta y}{\\Delta x}$, предельное положение секущей есть касательная в точке $(x, y)$, то получается, что:\n",
    "\n",
    "**Производная функции в точке (x, y) численно равна тангенсу угла наклона касательной в это точке** <br>\n",
    "(на картинке это угол $\\alpha$)\n"
   ]
  },
  {
   "cell_type": "markdown",
   "metadata": {
    "colab_type": "text",
    "id": "816xKHchAg-f"
   },
   "source": [
    "<a href=\"https://ibb.co/bdt4tyX\"><img src=\"https://i.ibb.co/88kykR9/2020-01-29-14-13-17.jpg\" width=\"350\" height=\"255\" alt=\"2020-01-29-14-13-17\" border=\"0\"></a>"
   ]
  },
  {
   "cell_type": "markdown",
   "metadata": {
    "colab_type": "text",
    "id": "oWGJNhL7AteH"
   },
   "source": [
    "## Пример производной из жизни"
   ]
  },
  {
   "cell_type": "markdown",
   "metadata": {
    "colab_type": "text",
    "id": "3XfJLH46AuQG"
   },
   "source": [
    "> Пример #7 <br>\n",
    "Пример из физики: <br>\n",
    "все мы помним формулу изменения координаты движущегося тела:\n",
    "$$F(t) = x_0 + v_{0}t + \\frac{a}{2}t^2$$\n",
    "где: <br>\n",
    "$x_0$ &mdash; координата тела в момент начала движения <br>\n",
    "$v_0$ &mdash; скорость тела в момент начала движения <br>\n",
    "$a$ &mdash; ускорение тела <br>\n",
    "$t$ &mdash; момент времени <br>\n",
    "<br>\n",
    "Здесь важны величины $v$ и $a$. Скорость и ускорение связаны формулой: <br>\n",
    "$v(t) = v_0 + at$ <br>\n",
    "Ускорение &mdash; это производная скорости по времени. Это можно понять интуитивно: ускорение &mdash; это скорость изменения скорости тела (сравните со \"скоростью изменения координаты графика\")<br>\n"
   ]
  },
  {
   "cell_type": "markdown",
   "metadata": {
    "colab_type": "text",
    "id": "ARkNTFDcd-Gd"
   },
   "source": [
    "> Пример #8 <br>\n",
    "<br>\n",
    "Вообще практически вся физика описывается производными первого и второго порядка (производная первого порядка = производная, производная второго порядка = производная производной). <br>\n",
    "<br>\n",
    "Скорость есть производная координаты про времени <br>\n",
    "Ускорение есть производная скорости по времени <br>\n",
    "То есть, ускорение есть вторая производная координаты по времени (производная производной) <br>\n",
    "<br>\n",
    "Также производная применяется в физике, географии и даже социологии. В целом, производная оисывает скорость изменения некоторой величины.\n",
    "\n"
   ]
  },
  {
   "cell_type": "markdown",
   "metadata": {
    "colab_type": "text",
    "id": "bKpVK2UkHVxI"
   },
   "source": [
    "# Вычисление производной"
   ]
  },
  {
   "cell_type": "markdown",
   "metadata": {
    "colab_type": "text",
    "id": "zrKPFnhPT9yZ"
   },
   "source": [
    "## Элементарные функции"
   ]
  },
  {
   "cell_type": "markdown",
   "metadata": {
    "colab_type": "text",
    "id": "iv9tujvKHX6G"
   },
   "source": [
    "Выше мы ввели определение производной и нашли производные нескольких функций, используя определение. В жизни (математике) бывает множество ситуаций, когда нужно находить производные довольно сложных функций. Делать это каждый раз по определению очень муторно и сложно. <br>\n",
    "Но есть хорошая новость! Этого делать и не нужно. Производные сложных функций находятся по ловольно простым правилам. Сейчас мы их рассмотрим:"
   ]
  },
  {
   "cell_type": "markdown",
   "metadata": {
    "colab_type": "text",
    "id": "74Hban0hIsRF"
   },
   "source": [
    "Нам в этом поможет **таблица производных часто встречающихся функций**:"
   ]
  },
  {
   "cell_type": "markdown",
   "metadata": {
    "colab_type": "text",
    "id": "22iRk9mlIhh1"
   },
   "source": [
    "![alt text](https://bugaga.net.ru/ege/math/imgs/tablica-proizvodnyh.gif)"
   ]
  },
  {
   "cell_type": "markdown",
   "metadata": {
    "colab_type": "text",
    "id": "gd_znTuDIz0k"
   },
   "source": [
    "В этой таблице $C$ &mdash; произвольная константа. То есть, первая формула таблицы говорит там, что производная любой константной функции есть 0."
   ]
  },
  {
   "cell_type": "markdown",
   "metadata": {
    "colab_type": "text",
    "id": "yHBPML8aJZac"
   },
   "source": [
    "Теперь осталось выучить еще три правила **нахождения производной композиции функций**:\n",
    "Пусть у нас есть две функции $u$ и $v$."
   ]
  },
  {
   "cell_type": "markdown",
   "metadata": {
    "colab_type": "text",
    "id": "nw5qIMcsJfjw"
   },
   "source": [
    "1. Производная суммы двух функций есть сумма производных этих функций (аналогично с вычитанием)\n",
    "$$(u + v)' = u' + v'$$\n",
    "\n",
    "2. Производная произведения двух функций:\n",
    "$$(u \\times v)' = u' v + u v'$$\n",
    "\n",
    "3. Производная отношения двух функций:\n",
    "$$\\left(\\frac{u}{v}\\right)' = \\frac{u' v - u v'}{v^2}$$\n"
   ]
  },
  {
   "cell_type": "markdown",
   "metadata": {
    "colab_type": "text",
    "id": "G_dUFGpdTe2M"
   },
   "source": [
    "> Пример #9\n",
    "<br>\n",
    "$F(x) = 4x^3$ <br>\n",
    "<br>\n",
    "Эта функция является произведением двух функций &mdash; $u(x) = 4$ и $v(x) = x^3$ <br>\n",
    "<br>\n",
    "Производная константы &mdash; 0, т.е. $u'(x) = 0$. <br>\n",
    "Для $x^3$ cмотрим в таблицу. Нужная нам формула &mdash; $(x^n)' = nx^{n-1}$. Применяем ее для $n=3$. Получаем: <br>\n",
    "$v'(x) = 3x^2$.<br>\n",
    "<br>\n",
    "По правилу дифференцирования композиции функций $F'(x) = u'v + uv' = 0 * 4x^3 + 4 * 3x^2 = 12x^2$ <br>\n",
    "<br>\n",
    "P.S. Вообще константы можно просто вынести за пределы дифференцирования и дифференцировать только часть функции с аргументами. То есть, формально, <br>\n",
    "$(CF(x))' = CF'(x)$. <br>\n",
    "Попробуйте убедиться в этом сами, использовав формулу производной произведения композиции функций.\n",
    "\n"
   ]
  },
  {
   "cell_type": "markdown",
   "metadata": {
    "colab_type": "text",
    "id": "lcSI_mjtOpYk"
   },
   "source": [
    "> Пример #10 <br>\n",
    "$F(x) = \\frac{4sinx}{e^x} + x^2*lnx$\n",
    "<br>\n",
    "<br>\n",
    "Эта функция раскладывается в сумму двух функций: <br>\n",
    "$u = \\frac{4sinx}{e^x}$ <br>\n",
    "$v = x^2*lnx$ <br>\n",
    "<br>\n",
    "$u$: <br>\n",
    "Эта функция есть отношение функций $4sinx$ и $e^x$. Воспользуемся формулой производной отношения функций: <br>\n",
    "$u' = \\frac{(4sinx)' *e^x - 4sinx *(e^x)'}{(e^x)^2} = <тут\\ для\\ вычисления\\ производных\\ смотрим\\ в\\ таблицу> = \\frac{4cosx *e^x - 4sinx *e^x}{e^{2x}}$ <br>\n",
    "<br>\n",
    "$v$:\n",
    "Эта функция есть произведение двух табличных функций. Воспользуемся формулой производной произведения функций: <br>\n",
    "$v' = (x^2)' * lnx + x^2 * (lnx)' = 2x*lnx + \\frac{x^2}{x} = 2x*lnx + x$ <br>\n",
    "<br>\n",
    "Итого <br>\n",
    "$F'(x) = u' + v' = \\frac{4cosx *e^x - 4sinx *e^x}{e^{2x}} + 2x*lnx + x$\n"
   ]
  },
  {
   "cell_type": "markdown",
   "metadata": {
    "colab_type": "text",
    "id": "oml5Q9J4UPzd"
   },
   "source": [
    "## Производная сложной функции"
   ]
  },
  {
   "cell_type": "markdown",
   "metadata": {
    "colab_type": "text",
    "id": "UYdhXv7NUT8x"
   },
   "source": [
    "Рассмотрим функцию:\n",
    "\n",
    "$$F(x) = sin(x^3)$$\n",
    "\n",
    "Эта функция не элементарная, ее производная не записана в таблице. Чтобы вычислить ее производную, нужно представить ее в виде композиции двух функций: <br>\n",
    "$u(v) = sin v$ <br>\n",
    "$v(x) = x^3$ <br>\n",
    "Тогда $F(x) = u(v(x))$\n",
    "\n",
    "Итого мы представляем функцию $F(x) = sin(x^3)$ как функцию не от аргумента $x$, а от аргумента $v = x^3$. Такая функция называется **сложной функцией**. Для вычисления ее производной применяется формула:\n",
    "\n",
    "$\\left( u(v(x)) \\right)' = u'(v) * v'(x)$\n",
    "\n",
    "То есть, нужно взять производную функции $u$, если ее аргумент &mdash; это $v$ (не $x$) и умножить на производную $v$ по $x$."
   ]
  },
  {
   "cell_type": "markdown",
   "metadata": {
    "colab_type": "text",
    "id": "3fDiDkficLGu"
   },
   "source": [
    "> Пример #11 <br>\n",
    "<br>\n",
    "Найдем производную $F(x) = sin(x^3)$: <br>\n",
    "<br>\n",
    "$u(v) = sin v$, $u'(v) = cos(v)$<br>\n",
    "$v(x) = x^3$, $v'(x) = 3x^2$<br>\n",
    "<br>\n",
    "<br>\n",
    "Итого $F'(x) = u'(v) * v'(x) = cos(x^3) * 3x^2$\n"
   ]
  },
  {
   "cell_type": "markdown",
   "metadata": {
    "colab_type": "text",
    "id": "VxoJ726iRYY6"
   },
   "source": [
    "# Производная функции многих переменных"
   ]
  },
  {
   "cell_type": "markdown",
   "metadata": {
    "colab_type": "text",
    "id": "Zr7L6nzabwTh"
   },
   "source": [
    "## Определение"
   ]
  },
  {
   "cell_type": "markdown",
   "metadata": {
    "colab_type": "text",
    "id": "FkpkihYXeMcw"
   },
   "source": [
    "Давайте рассмотрим функцию $n$ переменных:\n",
    "\n",
    "$F(x_1, x_2, \\dots, x_n)$.\n",
    "\n",
    "В ноутбуке про функции мы говорили о том, что возрастание и убывание функций многих переменных определяется покоординатно. <br>\n",
    "Производные многих переменных тоже можно определять покоординатно, т.е. считая все аргументы, кроме того, по которому берем производную, константами. (и мы в этом курсе будем определять производную функции многих переменных только покоординатно).<br>\n",
    "Производная функции нескольких переменных по одной переменной называется **частной производной**."
   ]
  },
  {
   "cell_type": "markdown",
   "metadata": {
    "colab_type": "text",
    "id": "qpZ9a0cIgIw7"
   },
   "source": [
    "> Пример #12 <br>\n",
    "<br>\n",
    "$F(x_1, x_2, x_3) = x_1x_2 + x_3$<br>\n",
    "<br>\n",
    "Производная функции $F$ по переменной $x_1$: <br>\n",
    "$$F'_{x_1} = (x_1x_2 + x_3)'_{x_1} = (x_1x_2)'_{x_1} + (x'_3)_{x_1} = x_2$$\n",
    "<br>\n",
    "Производная функции $F$ по переменной $x_2$: <br>\n",
    "$$F'_{x_2} = (x_1x_2 + x_3)'_{x_2} = (x_1x_2)'_{x_2} + (x'_3)_{x_2} = x_1$$\n",
    "<br>\n",
    "Производная функции $F$ по переменной $x_3$: <br>\n",
    "$$F'_{x_3} = (x_1x_2 + x_3)'_{x_3} = (x_1x_2)'_{x_3} + (x'_3)_{x_3} = 1$$"
   ]
  },
  {
   "cell_type": "markdown",
   "metadata": {
    "colab_type": "text",
    "id": "UsC28Llvhkju"
   },
   "source": [
    "Раз производная &mdash; это функция, то от нее тоже можно брать производную! Можно брать производную два раза по одной и той же переменной, а можно по разным. \n",
    "\n",
    "Обозначается вторая производная так: <br>\n",
    "$F''_{xx}$ &mdash; производная функции $F$ по $x$ и еще раз по $x$ <br>\n",
    "$F''_{xy}$ &mdash; производная функции $F$ по $x$ и еще раз по $y$"
   ]
  },
  {
   "cell_type": "markdown",
   "metadata": {
    "colab_type": "text",
    "id": "f-viD2uWhu0B"
   },
   "source": [
    "> Пример #13 <br>\n",
    "<br>\n",
    "$F(x_1, x_2, x_3) = x_1x_2 + x_3$<br>\n",
    "<br>\n",
    "Производная функции $F$ по переменной $x_1$: <br>\n",
    "$$F'_{x_1} = (x_1x_2 + x_3)'_{x_1} = (x_1x_2)'_{x_1} + (x'_3)_{x_1} = x_2$$<br>\n",
    "<br>\n",
    "Вторая производная функции $F$ по переменной $x_1$: <br>\n",
    "$F''_{x_1x_1} = (x_2)_{x_1} = 0$\n",
    "<br>\n",
    "Вторая производная функции $F$ по переменной $x_2$: <br>\n",
    "$F''_{x_1x_2} = (x_2)_{x_2} = 1$\n"
   ]
  },
  {
   "cell_type": "markdown",
   "metadata": {
    "colab_type": "text",
    "id": "PKrYQXSZictv"
   },
   "source": [
    "Также бывают третья, четвертая, ..., $n$-ная производные."
   ]
  },
  {
   "cell_type": "markdown",
   "metadata": {
    "colab_type": "text",
    "id": "Wz-gd9oDbyPi"
   },
   "source": [
    "## Градиент"
   ]
  },
  {
   "cell_type": "markdown",
   "metadata": {
    "colab_type": "text",
    "id": "BzVIxHThb7D1"
   },
   "source": [
    "**Градиент функции многих переменных** &mdash; это вектор частных производных функции."
   ]
  },
  {
   "cell_type": "markdown",
   "metadata": {
    "colab_type": "text",
    "id": "6tApylr1cHgz"
   },
   "source": [
    "> Пример #14 \n",
    "Знакомая нам функция $F(x_1, x_2, x_3) = x_1x_2 + x_3$.<br> В примере #12 мы вычислили ее частные производные по всем трем переменным. Значит, градиент этой функции есть: <br>\n",
    "$$grad F = \\triangledown F = (x_2, x_1, 1)$$"
   ]
  },
  {
   "cell_type": "markdown",
   "metadata": {
    "colab_type": "text",
    "id": "yj8K1BXic4-R"
   },
   "source": [
    "Градиент функции показывает, как ведет себя функция по каждой переменной. Градиент пригодится нам в ноутбуке по методам оптимизации."
   ]
  },
  {
   "cell_type": "code",
   "execution_count": 0,
   "metadata": {
    "colab": {},
    "colab_type": "code",
    "id": "wu5_4qdJH043"
   },
   "outputs": [],
   "source": []
  }
 ],
 "metadata": {
  "colab": {
   "collapsed_sections": [
    "aFQw4P-xNpXp",
    "LSW3dwznNpXw",
    "D8juT7luS_s6",
    "ZVn2OunErh_8",
    "cfbf09-INpYu",
    "oWGJNhL7AteH",
    "zrKPFnhPT9yZ",
    "oml5Q9J4UPzd"
   ],
   "name": "Derivative.ipynb",
   "provenance": [],
   "toc_visible": true
  },
  "kernelspec": {
   "display_name": "Python 3",
   "language": "python",
   "name": "python3"
  },
  "language_info": {
   "codemirror_mode": {
    "name": "ipython",
    "version": 3
   },
   "file_extension": ".py",
   "mimetype": "text/x-python",
   "name": "python",
   "nbconvert_exporter": "python",
   "pygments_lexer": "ipython3",
   "version": "3.7.4"
  }
 },
 "nbformat": 4,
 "nbformat_minor": 1
}
